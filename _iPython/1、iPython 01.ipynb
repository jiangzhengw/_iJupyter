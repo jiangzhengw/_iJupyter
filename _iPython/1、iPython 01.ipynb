{
 "cells": [
  {
   "cell_type": "markdown",
   "metadata": {},
   "source": [
    "## Python的第一行代码"
   ]
  },
  {
   "cell_type": "markdown",
   "metadata": {},
   "source": [
    "### 打印单双引号"
   ]
  },
  {
   "cell_type": "code",
   "execution_count": null,
   "metadata": {},
   "outputs": [],
   "source": [
    "print(\"'hello pyhton'\")"
   ]
  },
  {
   "cell_type": "markdown",
   "metadata": {},
   "source": [
    "print('\"hello python\"')"
   ]
  },
  {
   "cell_type": "markdown",
   "metadata": {},
   "source": [
    "### 三引号,打印多行数据"
   ]
  },
  {
   "cell_type": "code",
   "execution_count": null,
   "metadata": {
    "scrolled": false
   },
   "outputs": [],
   "source": [
    "print('''\n",
    "1\n",
    "2\n",
    "2\n",
    "3\n",
    "4\n",
    "5\n",
    "''')"
   ]
  },
  {
   "cell_type": "markdown",
   "metadata": {},
   "source": [
    "### 代码注释"
   ]
  },
  {
   "cell_type": "code",
   "execution_count": null,
   "metadata": {},
   "outputs": [],
   "source": [
    "# 单行注释"
   ]
  },
  {
   "cell_type": "markdown",
   "metadata": {},
   "source": [
    "### 多行注释"
   ]
  },
  {
   "cell_type": "code",
   "execution_count": null,
   "metadata": {},
   "outputs": [],
   "source": [
    "'''\n",
    "多行注释\n",
    "'''"
   ]
  },
  {
   "cell_type": "markdown",
   "metadata": {},
   "source": [
    "### 批量单行注释"
   ]
  },
  {
   "cell_type": "code",
   "execution_count": null,
   "metadata": {},
   "outputs": [],
   "source": [
    "# 第一行\n",
    "# 第二行\n",
    "# 第三行"
   ]
  },
  {
   "cell_type": "markdown",
   "metadata": {},
   "source": [
    "### 占位符"
   ]
  },
  {
   "cell_type": "code",
   "execution_count": null,
   "metadata": {
    "scrolled": true
   },
   "outputs": [],
   "source": [
    "print(\"hello Python!\")\n",
    "print(\"hello %s\"%('Python2!'))\n",
    "print(\"姓名：%s,年龄：%d,手机号：%s\"%('黎晟',24,'17800010001'))"
   ]
  },
  {
   "cell_type": "code",
   "execution_count": null,
   "metadata": {},
   "outputs": [],
   "source": [
    "name = \"黎晟\"\n",
    "age = 24\n",
    "phone = '17800010001'\n",
    "height = 1.74455\n",
    "# 保留两位小数\n",
    "print(\"姓名：%s,年龄：%d,手机号：%s,身高：%.2f\"%(name,age,phone,height))"
   ]
  },
  {
   "cell_type": "markdown",
   "metadata": {},
   "source": [
    "### 转义符"
   ]
  },
  {
   "cell_type": "code",
   "execution_count": null,
   "metadata": {
    "scrolled": true
   },
   "outputs": [],
   "source": [
    "# 换行 \\n\n",
    "print(\"1\\n2\")\n",
    "# 引号 \\' \\\"\n",
    "print(\"\\'\",\"\\\"\")\n",
    "# 反斜杠 \\\\\n",
    "print(\"\\\\\")\n",
    "print('c:\\windows\\python\\ls')\n",
    "print('c:\\\\windows\\\\python\\\\ls')"
   ]
  },
  {
   "cell_type": "markdown",
   "metadata": {},
   "source": [
    "### 引号嵌套\n",
    "单双引号可以互相嵌套，但是不能之间嵌套"
   ]
  },
  {
   "cell_type": "code",
   "execution_count": 6,
   "metadata": {},
   "outputs": [
    {
     "name": "stdout",
     "output_type": "stream",
     "text": [
      "\n",
      "哈哈\"哈\"\n",
      "阿啦啦'啦'\n",
      "阿拉阿拉啦\n",
      "\n",
      "\n",
      "哈哈\"哈\"\n",
      "阿啦啦'啦'\n",
      "阿拉阿拉啦\n",
      "\n"
     ]
    }
   ],
   "source": [
    "s= '''\n",
    "哈哈\"哈\"\n",
    "阿啦啦'啦'\n",
    "阿拉阿拉啦\n",
    "'''\n",
    "s2= \"\"\"\n",
    "哈哈\"哈\"\n",
    "阿啦啦'啦'\n",
    "阿拉阿拉啦\n",
    "\"\"\"\n",
    "print(s)\n",
    "print(s2)"
   ]
  }
 ],
 "metadata": {
  "kernelspec": {
   "display_name": "Python 3",
   "language": "python",
   "name": "python3"
  },
  "language_info": {
   "codemirror_mode": {
    "name": "ipython",
    "version": 3
   },
   "file_extension": ".py",
   "mimetype": "text/x-python",
   "name": "python",
   "nbconvert_exporter": "python",
   "pygments_lexer": "ipython3",
   "version": "3.8.5"
  }
 },
 "nbformat": 4,
 "nbformat_minor": 4
}
