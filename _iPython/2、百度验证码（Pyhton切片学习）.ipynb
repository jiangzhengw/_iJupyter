{
 "cells": [
  {
   "cell_type": "markdown",
   "metadata": {},
   "source": [
    "# 需求"
   ]
  },
  {
   "cell_type": "markdown",
   "metadata": {},
   "source": [
    "- 随机4位提取码\n",
    "- 随机范围a-z 0-9"
   ]
  },
  {
   "cell_type": "markdown",
   "metadata": {},
   "source": [
    "## 构建思路"
   ]
  },
  {
   "cell_type": "markdown",
   "metadata": {},
   "source": [
    "1.需要一个随机功能\n",
    "\n",
    "2.需要包含a-z 0-9\n",
    "\n",
    "3.需要限制位数\n",
    "\n",
    "4.随机后合并\n",
    "\n",
    "5.输出随机码"
   ]
  },
  {
   "cell_type": "markdown",
   "metadata": {},
   "source": [
    "## 工具Tools"
   ]
  },
  {
   "cell_type": "markdown",
   "metadata": {},
   "source": [
    "\n",
    "1、需要引入python随机库\n",
    "\n",
    "2、使用列表、for循环、列表添加、列表合并"
   ]
  },
  {
   "cell_type": "markdown",
   "metadata": {},
   "source": [
    "### 解法1"
   ]
  },
  {
   "cell_type": "code",
   "execution_count": 4,
   "metadata": {},
   "outputs": [],
   "source": [
    " import random"
   ]
  },
  {
   "cell_type": "code",
   "execution_count": 14,
   "metadata": {},
   "outputs": [],
   "source": [
    "raw_code = ['0','1','2','3','4','5','6','7','8','9','a','b','c','d','e','f','g']\n",
    "code = []"
   ]
  },
  {
   "cell_type": "code",
   "execution_count": 45,
   "metadata": {
    "scrolled": true
   },
   "outputs": [
    {
     "name": "stdout",
     "output_type": "stream",
     "text": [
      "验证码为: d6d2\n"
     ]
    }
   ],
   "source": [
    "for i in range(4):\n",
    "#     随机获取下表知识点\n",
    "    raw = raw_code[random.randint(0,len(raw_code)-1)]\n",
    "    code.append(raw)\n",
    "print(\"验证码为:\",''.join(code))\n",
    "code= []"
   ]
  },
  {
   "cell_type": "markdown",
   "metadata": {},
   "source": [
    "### 解法2"
   ]
  },
  {
   "cell_type": "code",
   "execution_count": 73,
   "metadata": {},
   "outputs": [
    {
     "name": "stdout",
     "output_type": "stream",
     "text": [
      "验证码为： l6a1\n"
     ]
    }
   ],
   "source": [
    "import string\n",
    "import random\n",
    "print(\"验证码为：\",''.join(random.sample(string.digits+string.ascii_lowercase,4)))"
   ]
  },
  {
   "cell_type": "code",
   "execution_count": 76,
   "metadata": {},
   "outputs": [
    {
     "name": "stdout",
     "output_type": "stream",
     "text": [
      "0123456789\n",
      "0123\n"
     ]
    }
   ],
   "source": [
    "print(string.digits)\n",
    "print(string.digits[0:4])"
   ]
  },
  {
   "cell_type": "code",
   "execution_count": 79,
   "metadata": {
    "scrolled": true
   },
   "outputs": [
    {
     "name": "stdout",
     "output_type": "stream",
     "text": [
      "abcdefghijklmnopqrstuvwxyz\n",
      "abcd\n"
     ]
    }
   ],
   "source": [
    "print(string.ascii_lowercase)\n",
    "print(string.ascii_lowercase[0:4])"
   ]
  },
  {
   "cell_type": "markdown",
   "metadata": {},
   "source": [
    "### 八位验证码"
   ]
  },
  {
   "cell_type": "code",
   "execution_count": 84,
   "metadata": {},
   "outputs": [
    {
     "name": "stdout",
     "output_type": "stream",
     "text": [
      "pKGzC9xP\n"
     ]
    }
   ],
   "source": [
    "print(''.join(random.sample(string.digits+string.ascii_lowercase+string.ascii_uppercase,8)))"
   ]
  }
 ],
 "metadata": {
  "kernelspec": {
   "display_name": "Python 3",
   "language": "python",
   "name": "python3"
  },
  "language_info": {
   "codemirror_mode": {
    "name": "ipython",
    "version": 3
   },
   "file_extension": ".py",
   "mimetype": "text/x-python",
   "name": "python",
   "nbconvert_exporter": "python",
   "pygments_lexer": "ipython3",
   "version": "3.8.5"
  }
 },
 "nbformat": 4,
 "nbformat_minor": 4
}
