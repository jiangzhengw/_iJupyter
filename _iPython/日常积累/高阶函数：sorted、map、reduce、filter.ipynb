{
 "cells": [
  {
   "cell_type": "markdown",
   "metadata": {},
   "source": [
    "## 高阶函数\n",
    "\n",
    "\n",
    "\n",
    "### sorted(iterable,[reverse,key])\n",
    "\n",
    "\n",
    "```\n",
    "sorted()\n",
    "运行原理：\n",
    "    把可迭代数据里面的元素，一个一个的取出来，放到key这个函数中进行处理，\n",
    "    并按照函数中return的结果进行排序，返回一个新的列表\n",
    "功能： 排序\n",
    "参数：\n",
    "    iterable 可迭代的数据 （容器类型数据，range数据序列，迭代器）\n",
    "    reverse  可选，是否反转，默认为False，不反转， True反转\n",
    "    key      可选， 函数，可以是自定义函数，也可以是内置函数\n",
    "返回值： 排序后的结果\n",
    "```"
   ]
  },
  {
   "cell_type": "code",
   "execution_count": 5,
   "metadata": {},
   "outputs": [
    {
     "name": "stdout",
     "output_type": "stream",
     "text": [
      "[-9, 1, 3, 7, 10, 20]\n",
      "[20, 10, 7, 3, 1, -9]\n",
      "[1, 3, 7, -9, 10, 20]\n",
      "3 1\n",
      "2 0\n",
      "4 0\n",
      "6 0\n",
      "5 1\n",
      "7 1\n",
      "9 1\n",
      "[2, 4, 6, 3, 5, 7, 9]\n",
      "[2, 4, 6, 3, 5, 7, 9]\n"
     ]
    }
   ],
   "source": [
    "arr = [3,7,1,-9,20,10]\n",
    "# 默认按照从小到大的方式进行排序\n",
    "res = sorted(arr)  # [-9, 1, 3, 7, 10, 20]\n",
    "print(res)\n",
    "\n",
    "# 可以按照从大到小的方式进行排序\n",
    "res = sorted(arr,reverse=True)  # [20, 10, 7, 3, 1, -9]\n",
    "print(res)\n",
    "\n",
    "# 使用abs这个函数(求绝对值）作为sorted的key关键字参数使用\n",
    "res = sorted(arr,key=abs)\n",
    "print(res)\n",
    "\n",
    "# 使用自定义函数\n",
    "def func(num):\n",
    "    print(num,num % 2)\n",
    "    return num % 2\n",
    "\n",
    "arr = [3,2,4,6,5,7,9]\n",
    "\n",
    "# # 在sorted函数中使用自定义函数对数据进行处理\n",
    "res = sorted(arr,key=func)\n",
    "print(res)\n",
    "\n",
    "## 优化版\n",
    "arr = [3,2,4,6,5,7,9]\n",
    "res = sorted(arr,key=lambda x:x%2)\n",
    "print(res)"
   ]
  },
  {
   "cell_type": "markdown",
   "metadata": {},
   "source": [
    "\n",
    "### map(func, *iterables)\n",
    "\n",
    "\n",
    "> 对传入的可迭代数据中的每个元素进行处理，返回一个新的迭代器\n",
    "\n",
    "```\n",
    "map(func, *iterables)\n",
    "功能： 对传入的可迭代数据中的每个元素放入到函数中进行处理，返回一个新的迭代器\n",
    "参数：\n",
    "    func 函数  自定义函数|内置函数\n",
    "    iterables：可迭代的数据\n",
    "返回值：迭代器\n",
    "```\n"
   ]
  },
  {
   "cell_type": "code",
   "execution_count": 15,
   "metadata": {},
   "outputs": [
    {
     "name": "stdout",
     "output_type": "stream",
     "text": [
      "[1, 2, 3, 4]\n",
      "[1, 2, 3, 4]\n",
      "[1, 4, 9, 16]\n",
      "<map object at 0x00000227E3249730> [1, 4, 9, 16]\n",
      "<map object at 0x00000227E2E2E550> [1, 4, 9, 16]\n",
      "[65, 66, 67, 68]\n"
     ]
    }
   ],
   "source": [
    "\n",
    "# （1）把一个字符串数字的列表转为 整型的数字列表\n",
    "# ['1','2','3','4']  # ==> [1,2,3,4]\n",
    "# 普通的处理方法\n",
    "varlist = ['1','2','3','4']  # ==> [1,2,3,4]\n",
    "newlist = []\n",
    "for i in varlist:\n",
    "    newlist.append(int(i))\n",
    "print(newlist)\n",
    "\n",
    "# 使用map函数进行处理\n",
    "varlist = ['1','2','3','4']\n",
    "res = map(int,varlist) # <map object at 0x104ea8890>\n",
    "print(list(res))\n",
    "\n",
    "# (2) [1,2,3,4] ==> [1,4,9,16]\n",
    "\n",
    "# 普通方法\n",
    "varlist = [1,2,3,4]\n",
    "newlist = []\n",
    "for i in varlist:\n",
    "    res = i ** 2\n",
    "    newlist.append(res)\n",
    "print(newlist)\n",
    "\n",
    "# 使用map函数处理这个数据\n",
    "varlist = [1,2,3,4]\n",
    "def myfunc(x):\n",
    "    return x ** 2\n",
    "res = map(myfunc,varlist)\n",
    "print(res,list(res))\n",
    "\n",
    "# 优化版\n",
    "res = map(lambda x:x**2,varlist)\n",
    "print(res,list(res))\n",
    "\n",
    "\n",
    "# 练习作业\n",
    "# (3) ['a','b','c','d'] ==> [65,66,67,68]\n",
    "res = map(lambda x:ord(x)-32,['a','b','c','d'])\n",
    "print(list(res))"
   ]
  },
  {
   "cell_type": "markdown",
   "metadata": {},
   "source": [
    "### reduce(func,iterable)\n",
    "\n",
    "\n",
    "```\n",
    "reduce(func,iterable)\n",
    "功能：\n",
    "    每一次从 iterable 拿出两个元素，放入到func函数中进行处理，得出一个计算结果，\n",
    "    然后把这个计算结果和iterable中的第三个元素，放入到func函数中继续运算，\n",
    "    得出的结果和之后的第四个元素，加入到func函数中进行处理，以此类推，直到最后的元素都参与了运算\n",
    "参数：\n",
    "    func： 内置函数或自定义函数\n",
    "    iterable： 可迭代的数据\n",
    "返回值：最终的运算处理结果\n",
    "注意： 使用 reduce函数时，需要导入 from functools import reduce\n",
    "```"
   ]
  },
  {
   "cell_type": "code",
   "execution_count": 16,
   "metadata": {},
   "outputs": [
    {
     "name": "stdout",
     "output_type": "stream",
     "text": [
      "5211 <class 'int'>\n",
      "5211 <class 'int'>\n",
      "456\n"
     ]
    }
   ],
   "source": [
    "\n",
    "from functools import reduce\n",
    "\n",
    "### (1) [5,2,1,1] ==> 5211\n",
    "\n",
    "# 普通方法\n",
    "varlist = [5,2,1,1]\n",
    "res = ''\n",
    "for i in varlist:\n",
    "    res += str(i)\n",
    "res = int(res)\n",
    "print(res,type(res))\n",
    "'''\n",
    "5 2 1 1\n",
    "5 * 10 + 2 == 52\n",
    "52 * 10 + 1 == 521\n",
    "521 * 10 + 1 == 5211\n",
    "'''\n",
    "\n",
    "# 使用 reduce完成\n",
    "def myfunc(x,y):\n",
    "    return x*10+y\n",
    "varlist = [5,2,1,1]\n",
    "# # 调用函数\n",
    "res = reduce(myfunc,varlist)\n",
    "print(res,type(res))\n",
    "\n",
    "# （2） 把字符串的 '456' ==> 456\n",
    "#  要求不能使用int方法进行类型的转换时，如何解决上面的问题\n",
    "\n",
    "# 定义函数，给定一个字符串的数字，返回一个整型的数字\n",
    "def myfunc(s):\n",
    "    vardict = {'0':0,'1':1,'2':2,'3':3,'4':4,'5':5,'6':6,'7':7,'8':8,'9':9}\n",
    "    return vardict[s]\n",
    "\n",
    "# 1.先使用 map函数，把数字字符串，转为整型的数字\n",
    "iter1 = map(myfunc,'456')\n",
    "\n",
    "# 2. 把数字列表中的值，使用lambda进行二次处理\n",
    "iter2 = reduce(lambda x,y:x*10+y,iter1)\n",
    "print(iter2)"
   ]
  },
  {
   "cell_type": "markdown",
   "metadata": {},
   "source": [
    "\n",
    "### filter(func,iterable)\n",
    "\n",
    "\n",
    "\n",
    "```\n",
    "filter(func,iterable)\n",
    "功能： 过滤数据，把 iterable 中的每个元素拿到 func 函数中进行处理，\n",
    "        如果函数返回True则保留这个数据，返回False则丢弃这个数据\n",
    "参数：\n",
    "    func  自定义函数\n",
    "    itereble： 可迭代的数据\n",
    "返回值：保留下来的数据组成的 迭代器\n",
    "```"
   ]
  },
  {
   "cell_type": "code",
   "execution_count": 18,
   "metadata": {},
   "outputs": [
    {
     "name": "stdout",
     "output_type": "stream",
     "text": [
      "[2, 4, 6, 8]\n",
      "<filter object at 0x00000227E2F74400> [2, 4, 6, 8]\n",
      "<filter object at 0x00000227E2F741F0> [2, 4, 6, 8]\n"
     ]
    }
   ],
   "source": [
    "\n",
    "# 要求 保留所有的偶数，丢弃所有的奇数\n",
    "varlist = [1,2,3,4,5,6,7,8,9]\n",
    "\n",
    "# 普通方法实现\n",
    "newlist = []\n",
    "for i in varlist:\n",
    "    if i % 2 == 0:\n",
    "        newlist.append(i)\n",
    "print(newlist)\n",
    "\n",
    "# 使用 filter 进行处理\n",
    "\n",
    "# 定义一个函数，判断当前这个函数是否为偶数，偶数返回True，奇数返回False\n",
    "def myfunc(n):\n",
    "    if n % 2 == 0:\n",
    "        return True\n",
    "    else:\n",
    "        return False\n",
    "#\n",
    "# # 调用 过滤器 函数进行处理\n",
    "it = filter(myfunc,varlist)\n",
    "print(it,list(it))\n",
    "\n",
    "# 优化版\n",
    "# it = filter(lambda n:True if n % 2 == 0 else False,varlist)\n",
    "it =filter(lambda x:x%2==0 ,varlist)\n",
    "print(it,list(it))\n"
   ]
  }
 ],
 "metadata": {
  "kernelspec": {
   "display_name": "Python 3",
   "language": "python",
   "name": "python3"
  },
  "language_info": {
   "codemirror_mode": {
    "name": "ipython",
    "version": 3
   },
   "file_extension": ".py",
   "mimetype": "text/x-python",
   "name": "python",
   "nbconvert_exporter": "python",
   "pygments_lexer": "ipython3",
   "version": "3.8.5"
  }
 },
 "nbformat": 4,
 "nbformat_minor": 4
}
