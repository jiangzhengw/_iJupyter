{
 "cells": [
  {
   "cell_type": "markdown",
   "metadata": {},
   "source": [
    "### pathlib和os模块虎丘文件路径及操作"
   ]
  },
  {
   "cell_type": "markdown",
   "metadata": {},
   "source": [
    "#### 获取当前文件路径"
   ]
  },
  {
   "cell_type": "code",
   "execution_count": null,
   "metadata": {},
   "outputs": [],
   "source": [
    "# os模块获取当前文件路径\n",
    "import os\n",
    "d1=os.getcwd()\n",
    "print(d1)\n",
    "\n",
    "\n",
    "# pathlib 获取当前文件路径\n",
    "from pathlib import Path\n",
    "d2=Path.cwd()\n",
    "print(d2)"
   ]
  },
  {
   "cell_type": "markdown",
   "metadata": {},
   "source": [
    "#### 获取上层、上上层目录"
   ]
  },
  {
   "cell_type": "code",
   "execution_count": null,
   "metadata": {
    "scrolled": true
   },
   "outputs": [],
   "source": [
    "# os获取上上层目录，嵌套式调用\n",
    "import os\n",
    "print(os.path.dirname(os.getcwd()))\n",
    "\n",
    "\n",
    "# pathlib获取上上层目录，链式调用\n",
    "from pathlib import Path\n",
    "print(Path.cwd().parent)"
   ]
  },
  {
   "cell_type": "markdown",
   "metadata": {},
   "source": [
    "#### 拼接目录\n",
    "\n",
    "在当前目录的父级目录拼接 test 文件夹下的 test.txt "
   ]
  },
  {
   "cell_type": "code",
   "execution_count": 1,
   "metadata": {},
   "outputs": [
    {
     "name": "stdout",
     "output_type": "stream",
     "text": [
      "D:\\Jupyter\\_iPython\\test\\test.txt\n",
      "D:\\Jupyter\\_iPython\\test\\test.txt\n"
     ]
    }
   ],
   "source": [
    "# os模块\n",
    "import os\n",
    "\n",
    "# join目录拼接method\n",
    "path = os.path.join(os.path.dirname(os.getcwd()),\"test\",\"test.txt\")\n",
    "print(path)\n",
    "\n",
    "\n",
    "# pathlib模块\n",
    "from pathlib import Path\n",
    "\n",
    "# path =Path.cwd().parent.joinpath(*[\"test\",\"test.txt\"]) \n",
    "path =Path.cwd().parent.joinpath(*(\"test\",\"test.txt\")) \n",
    "print(path)"
   ]
  },
  {
   "cell_type": "markdown",
   "metadata": {},
   "source": [
    "#### 创建文件夹并重命名\n"
   ]
  },
  {
   "cell_type": "code",
   "execution_count": null,
   "metadata": {},
   "outputs": [],
   "source": [
    "# os模块\n",
    "import os\n",
    "import os.path\n",
    "\n",
    "# 创建 peoject/test目录\n",
    "os.makedirs(os.path.join('project', 'test'), exist_ok=True)\n",
    "\n",
    "# 将test.txt 重命名为 project/tests.txt\n",
    "os.rename('test.txt', os.path.join('project', 'tests.txt'))\n",
    "\n",
    "\n",
    "# pathlib模块的Path对象\n",
    "from pathlib import Path\n",
    "\n",
    "# 创建 project/test目录\n",
    "Path('project/test').mkdir(parents=True, exist_ok=True)\n",
    "\n",
    "# 将test.txt 重命名为 project/tests.txt\n",
    "Path('test.txt').rename('project/test.txt')"
   ]
  }
 ],
 "metadata": {
  "kernelspec": {
   "display_name": "Python 3",
   "language": "python",
   "name": "python3"
  },
  "language_info": {
   "codemirror_mode": {
    "name": "ipython",
    "version": 3
   },
   "file_extension": ".py",
   "mimetype": "text/x-python",
   "name": "python",
   "nbconvert_exporter": "python",
   "pygments_lexer": "ipython3",
   "version": "3.8.5"
  }
 },
 "nbformat": 4,
 "nbformat_minor": 4
}
