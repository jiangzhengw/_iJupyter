{
 "cells": [
  {
   "cell_type": "markdown",
   "metadata": {},
   "source": [
    "### 模块化编程\n",
    "\n",
    "\n",
    "> 把程序进行封装（函数封装、面向对象、文件）\n",
    "\n",
    "### 函数\n",
    "\n",
    "> 特定功能的代码块\n",
    "\n",
    "\n",
    "#### 函数的作用\n",
    "\n",
    "- 提高代码的复用性，降低代码的重复\n",
    "- 提高编码效率，便于理解\n",
    "- 极大地降低了维护成本\n",
    "\n",
    "\n",
    "#### 函数的定义和使用（略）\n",
    "\n",
    "def fun():\n",
    "    xxxx\n",
    "    xxxx\n",
    "\n",
    "fun()"
   ]
  },
  {
   "cell_type": "code",
   "execution_count": 1,
   "metadata": {
    "scrolled": true
   },
   "outputs": [
    {
     "name": "stdout",
     "output_type": "stream",
     "text": [
      "Keep alive.\n"
     ]
    }
   ],
   "source": [
    "def alive():\n",
    "    print(\"Alive！\")\n",
    "\n",
    "alive()"
   ]
  },
  {
   "cell_type": "markdown",
   "metadata": {},
   "source": [
    "#### 形参实参（略）\n",
    "\n",
    "#### 必选参数，默认参数，可变参数，关键字参数。\n",
    "\n"
   ]
  },
  {
   "cell_type": "code",
   "execution_count": 2,
   "metadata": {},
   "outputs": [
    {
     "name": "stdout",
     "output_type": "stream",
     "text": [
      "Debugging！\n"
     ]
    }
   ],
   "source": [
    "# 普通参数、默认参数\n",
    "\n",
    "def keep(x,y=1,):\n",
    "    print(\"Keeping！\")\n",
    "\n",
    "keep(1)"
   ]
  },
  {
   "cell_type": "code",
   "execution_count": 6,
   "metadata": {
    "scrolled": true
   },
   "outputs": [
    {
     "name": "stdout",
     "output_type": "stream",
     "text": [
      "<class 'tuple'>\n",
      "0\n",
      "1\n",
      "2\n",
      "3\n",
      "4\n",
      "5\n",
      "6\n",
      "7\n",
      "8\n",
      "9\n"
     ]
    }
   ],
   "source": [
    "# 收集参数 \n",
    "# 形参前面加 * 号表示收集参数，例如 *args,  是元组类型\n",
    "# 定义一个形参，专门收集多余的实参，或者不确定有要传递多少个实参，直接用一个形参来接收\n",
    "\n",
    "def focus(x=1,*arg):\n",
    "    print(type(arg))\n",
    "    if x ==1:\n",
    "        print(arg)\n",
    "    else:\n",
    "        for i in range(len(arg)):\n",
    "            print(i)\n",
    "            \n",
    "focus(0,1,2,3,4,5,6,7,8,9,10)"
   ]
  },
  {
   "cell_type": "code",
   "execution_count": 17,
   "metadata": {},
   "outputs": [
    {
     "name": "stdout",
     "output_type": "stream",
     "text": [
      "1 2\n",
      "(3, 4, 5, 6, 7)\n",
      "黎晟\n",
      "\n",
      "\n",
      "1 2\n"
     ]
    }
   ],
   "source": [
    "# 关键字参数\n",
    "\n",
    "# 关键字参数定义在收集参数后\n",
    "# 关键字参数调用时必须通过形参名字来进行传参\n",
    "\n",
    "\n",
    "def learn(a,b=1,*args,name):\n",
    "    print(a,b)\n",
    "    print(args)\n",
    "    print(name)\n",
    "    \n",
    "\n",
    "learn(1,2,3,4,5,6,7,name='黎晟')\n",
    "print(\"\\n\")\n",
    "\n",
    "# 普通函数中的关键字参数\n",
    "def learn1(a,b=1):\n",
    "    print(a,b)\n",
    "learn1(b=2,a=1)"
   ]
  },
  {
   "cell_type": "code",
   "execution_count": 25,
   "metadata": {},
   "outputs": [
    {
     "name": "stdout",
     "output_type": "stream",
     "text": [
      "1 2 3\n",
      "(4, 5, 6)\n",
      "黎晟\n",
      "{'x': 1, 'y': 2, 'z': 3}\n"
     ]
    }
   ],
   "source": [
    "# 关键字收集参数\n",
    "# 形参前面加 ** 号表示关键字收集参数，例如 **kwargs,  是字典类型\n",
    "# 会把多余的关键字参数收集为字典\n",
    "# kw == key-world\n",
    "\n",
    "def doing(a,b,c,*args,name,**kwargs):\n",
    "    print(a,b,c)\n",
    "    print(args)\n",
    "    print(name)\n",
    "    print(kwargs)\n",
    "    \n",
    "doing(1,2,3,4,5,6,name='黎晟',x=1,y=2,z=3)"
   ]
  },
  {
   "cell_type": "code",
   "execution_count": 1,
   "metadata": {},
   "outputs": [
    {
     "name": "stdout",
     "output_type": "stream",
     "text": [
      "(1, 2, 3, 4, 5, 6)\n",
      "{'x': 1, 'y': 2, 'z': 3, 'name': '黎晟'}\n"
     ]
    }
   ],
   "source": [
    "def thinking(*args,**kwargs):\n",
    "    print(args)\n",
    "    print(kwargs)\n",
    "    \n",
    "thinking(1,2,3,4,5,6,x=1,y=2,z=3,name='黎晟')"
   ]
  },
  {
   "cell_type": "markdown",
   "metadata": {},
   "source": [
    "### 函数的返回值"
   ]
  },
  {
   "cell_type": "code",
   "execution_count": 3,
   "metadata": {},
   "outputs": [
    {
     "name": "stdout",
     "output_type": "stream",
     "text": [
      "Keep doing.\n"
     ]
    }
   ],
   "source": [
    "# 使用return关键字进行返回，可以返回任一数据\n",
    "# return会把返回值，返回到函数调用处\n",
    "# return 后的内容不会执行。\n",
    "\n",
    "def keep_doing():\n",
    "    return \"Keep doing.\"\n",
    "\n",
    "print(keep_doing())"
   ]
  },
  {
   "cell_type": "markdown",
   "metadata": {},
   "source": [
    "### 变量的作用域\n",
    "\n",
    "> 作用域就是有效范围\n",
    "\n",
    "- 全局变量\n",
    "- 局部变量"
   ]
  },
  {
   "cell_type": "code",
   "execution_count": 6,
   "metadata": {},
   "outputs": [
    {
     "ename": "UnboundLocalError",
     "evalue": "local variable 'n' referenced before assignment",
     "output_type": "error",
     "traceback": [
      "\u001b[1;31m---------------------------------------------------------------------------\u001b[0m",
      "\u001b[1;31mUnboundLocalError\u001b[0m                         Traceback (most recent call last)",
      "\u001b[1;32m<ipython-input-6-bf87354de39e>\u001b[0m in \u001b[0;36m<module>\u001b[1;34m\u001b[0m\n\u001b[0;32m      8\u001b[0m     \u001b[0mn\u001b[0m\u001b[1;33m+=\u001b[0m\u001b[1;36m1\u001b[0m\u001b[1;33m\u001b[0m\u001b[1;33m\u001b[0m\u001b[0m\n\u001b[0;32m      9\u001b[0m \u001b[1;33m\u001b[0m\u001b[0m\n\u001b[1;32m---> 10\u001b[1;33m \u001b[0mdo\u001b[0m\u001b[1;33m(\u001b[0m\u001b[1;33m)\u001b[0m\u001b[1;33m\u001b[0m\u001b[1;33m\u001b[0m\u001b[0m\n\u001b[0m",
      "\u001b[1;32m<ipython-input-6-bf87354de39e>\u001b[0m in \u001b[0;36mdo\u001b[1;34m()\u001b[0m\n\u001b[0;32m      5\u001b[0m \u001b[1;33m\u001b[0m\u001b[0m\n\u001b[0;32m      6\u001b[0m \u001b[1;32mdef\u001b[0m \u001b[0mdo\u001b[0m\u001b[1;33m(\u001b[0m\u001b[1;33m)\u001b[0m\u001b[1;33m:\u001b[0m\u001b[1;33m\u001b[0m\u001b[1;33m\u001b[0m\u001b[0m\n\u001b[1;32m----> 7\u001b[1;33m     \u001b[0mprint\u001b[0m\u001b[1;33m(\u001b[0m\u001b[0mn\u001b[0m\u001b[1;33m)\u001b[0m\u001b[1;33m\u001b[0m\u001b[1;33m\u001b[0m\u001b[0m\n\u001b[0m\u001b[0;32m      8\u001b[0m     \u001b[0mn\u001b[0m\u001b[1;33m+=\u001b[0m\u001b[1;36m1\u001b[0m\u001b[1;33m\u001b[0m\u001b[1;33m\u001b[0m\u001b[0m\n\u001b[0;32m      9\u001b[0m \u001b[1;33m\u001b[0m\u001b[0m\n",
      "\u001b[1;31mUnboundLocalError\u001b[0m: local variable 'n' referenced before assignment"
     ]
    }
   ],
   "source": [
    "# 1、函数可以直接调用函数外的变量，但是不能直接使用函数外的变量(不可变数据类型)，可变数据类型的可以直接使用操作\n",
    "# 2、函数内定义的变量，叫做局部变量，作用域是函数内，不能在函数外调用使用\n",
    "# 可变数据类型 dict 和 list\n",
    "# 不可变数据类型 其他类型\n",
    "\n",
    "\n",
    "n=0\n",
    "\n",
    "def do():\n",
    "    print(n)\n",
    "    n+=1\n",
    "    \n",
    "do()"
   ]
  },
  {
   "cell_type": "code",
   "execution_count": 14,
   "metadata": {
    "scrolled": true
   },
   "outputs": [
    {
     "name": "stdout",
     "output_type": "stream",
     "text": [
      "{'__name__': '__main__', '__doc__': 'Automatically created module for IPython interactive environment', '__package__': None, '__loader__': None, '__spec__': None, '__builtin__': <module 'builtins' (built-in)>, '__builtins__': <module 'builtins' (built-in)>, '_ih': ['', \"def thinking(*args,**kwargs):\\n    print(args)\\n    print(kwargs)\\n    \\nthinking(1,2,3,4,5,6,x=1,y=2,z=3,name='黎晟')\", 'def keep_doing():\\n    return \"Keep doing.\"\\n\\nprint(keep_doing())', '# 使用return关键字进行返回，可以返回任一数据\\n# return会把返回值，返回到函数调用处\\n# return 后的内容不会执行。\\n\\ndef keep_doing():\\n    return \"Keep doing.\"\\n\\nprint(keep_doing())', '# 1、函数可以直接调用函数外的变量，但是不能直接使用函数外的变量\\n2、函数内定义的变量，叫做局部变量，作用域是函数内，不能在函数外调用使用', '# 1、函数可以直接调用函数外的变量，但是不能直接使用函数外的变量\\n# 2、函数内定义的变量，叫做局部变量，作用域是函数内，不能在函数外调用使用', '# 1、函数可以直接调用函数外的变量，但是不能直接使用函数外的变量\\n# 2、函数内定义的变量，叫做局部变量，作用域是函数内，不能在函数外调用使用\\n\\nn=0\\n\\ndef do():\\n    print(n)\\n    n+=1\\n    \\ndo()', 'a,b,c =0,1,2\\n\\ndef debugger():\\n    globals a,b,c\\n    return a+b+c\\n\\ndebugger()', 'a,b,c =0,1,2\\n\\ndef debugger():\\n    global a,b,c\\n    return a+b+c\\n\\ndebugger()', 'a,b,c =0,1,2\\n\\ndef debugger():\\n    global a,b,c\\n    return a+b+c\\n\\ndebugger()\\nprint(globals())\\nprint(locals())', 'a,b,c =0,1,2\\n\\ndef debugger():\\n    global a,b,c\\n    return a+b+c\\n\\ndebugger()\\nprint(globals())\\nprint(\"分界线\\\\n\")\\nprint(locals())', 'a,b,c =0,1,2\\n\\ndef debugger():\\n    global a,b,c\\n    return a+b+c\\n\\ndebugger()\\nprint(globals())\\nprint(\"---------------------------分界线-------------\\\\n\")\\nprint(locals())', 'a,b,c =0,1,2\\n\\ndef debugger():\\n    global a,b,c\\n    return a+b+c\\n\\ndebugger()\\nprint(globals())\\nprint(f\"---------------------------分界线-------------\\\\n\")\\nprint(locals())', 'a,b,c =0,1,2\\n\\ndef debugger():\\n    global a,b,c\\n    print(globals())\\n    print(\"\\\\n\")\\n    print(locals())\\n    return a+b+c\\n\\ndebugger()', 'a,b,c =0,1,2\\n\\ndef debugger():\\n    x,y,z =0,1,2\\n    global a,b,c\\n    print(globals())\\n    print(\"\\\\n\")\\n    print(locals())\\n    return a+b+c\\n\\ndebugger()'], '_oh': {8: 3, 13: 3}, '_dh': ['D:\\\\Jupyter\\\\_iPython'], 'In': ['', \"def thinking(*args,**kwargs):\\n    print(args)\\n    print(kwargs)\\n    \\nthinking(1,2,3,4,5,6,x=1,y=2,z=3,name='黎晟')\", 'def keep_doing():\\n    return \"Keep doing.\"\\n\\nprint(keep_doing())', '# 使用return关键字进行返回，可以返回任一数据\\n# return会把返回值，返回到函数调用处\\n# return 后的内容不会执行。\\n\\ndef keep_doing():\\n    return \"Keep doing.\"\\n\\nprint(keep_doing())', '# 1、函数可以直接调用函数外的变量，但是不能直接使用函数外的变量\\n2、函数内定义的变量，叫做局部变量，作用域是函数内，不能在函数外调用使用', '# 1、函数可以直接调用函数外的变量，但是不能直接使用函数外的变量\\n# 2、函数内定义的变量，叫做局部变量，作用域是函数内，不能在函数外调用使用', '# 1、函数可以直接调用函数外的变量，但是不能直接使用函数外的变量\\n# 2、函数内定义的变量，叫做局部变量，作用域是函数内，不能在函数外调用使用\\n\\nn=0\\n\\ndef do():\\n    print(n)\\n    n+=1\\n    \\ndo()', 'a,b,c =0,1,2\\n\\ndef debugger():\\n    globals a,b,c\\n    return a+b+c\\n\\ndebugger()', 'a,b,c =0,1,2\\n\\ndef debugger():\\n    global a,b,c\\n    return a+b+c\\n\\ndebugger()', 'a,b,c =0,1,2\\n\\ndef debugger():\\n    global a,b,c\\n    return a+b+c\\n\\ndebugger()\\nprint(globals())\\nprint(locals())', 'a,b,c =0,1,2\\n\\ndef debugger():\\n    global a,b,c\\n    return a+b+c\\n\\ndebugger()\\nprint(globals())\\nprint(\"分界线\\\\n\")\\nprint(locals())', 'a,b,c =0,1,2\\n\\ndef debugger():\\n    global a,b,c\\n    return a+b+c\\n\\ndebugger()\\nprint(globals())\\nprint(\"---------------------------分界线-------------\\\\n\")\\nprint(locals())', 'a,b,c =0,1,2\\n\\ndef debugger():\\n    global a,b,c\\n    return a+b+c\\n\\ndebugger()\\nprint(globals())\\nprint(f\"---------------------------分界线-------------\\\\n\")\\nprint(locals())', 'a,b,c =0,1,2\\n\\ndef debugger():\\n    global a,b,c\\n    print(globals())\\n    print(\"\\\\n\")\\n    print(locals())\\n    return a+b+c\\n\\ndebugger()', 'a,b,c =0,1,2\\n\\ndef debugger():\\n    x,y,z =0,1,2\\n    global a,b,c\\n    print(globals())\\n    print(\"\\\\n\")\\n    print(locals())\\n    return a+b+c\\n\\ndebugger()'], 'Out': {8: 3, 13: 3}, 'get_ipython': <bound method InteractiveShell.get_ipython of <ipykernel.zmqshell.ZMQInteractiveShell object at 0x000001CD4126FFD0>>, 'exit': <IPython.core.autocall.ZMQExitAutocall object at 0x000001CD413248E0>, 'quit': <IPython.core.autocall.ZMQExitAutocall object at 0x000001CD413248E0>, '_': 3, '__': 3, '___': '', '_i': 'a,b,c =0,1,2\\n\\ndef debugger():\\n    global a,b,c\\n    print(globals())\\n    print(\"\\\\n\")\\n    print(locals())\\n    return a+b+c\\n\\ndebugger()', '_ii': 'a,b,c =0,1,2\\n\\ndef debugger():\\n    global a,b,c\\n    return a+b+c\\n\\ndebugger()\\nprint(globals())\\nprint(f\"---------------------------分界线-------------\\\\n\")\\nprint(locals())', '_iii': 'a,b,c =0,1,2\\n\\ndef debugger():\\n    global a,b,c\\n    return a+b+c\\n\\ndebugger()\\nprint(globals())\\nprint(\"---------------------------分界线-------------\\\\n\")\\nprint(locals())', '_i1': \"def thinking(*args,**kwargs):\\n    print(args)\\n    print(kwargs)\\n    \\nthinking(1,2,3,4,5,6,x=1,y=2,z=3,name='黎晟')\", 'thinking': <function thinking at 0x000001CD42284310>, '_i2': 'def keep_doing():\\n    return \"Keep doing.\"\\n\\nprint(keep_doing())', 'keep_doing': <function keep_doing at 0x000001CD422EE790>, '_i3': '# 使用return关键字进行返回，可以返回任一数据\\n# return会把返回值，返回到函数调用处\\n# return 后的内容不会执行。\\n\\ndef keep_doing():\\n    return \"Keep doing.\"\\n\\nprint(keep_doing())', '_i4': '# 1、函数可以直接调用函数外的变量，但是不能直接使用函数外的变量\\n2、函数内定义的变量，叫做局部变量，作用域是函数内，不能在函数外调用使用', '_i5': '# 1、函数可以直接调用函数外的变量，但是不能直接使用函数外的变量\\n# 2、函数内定义的变量，叫做局部变量，作用域是函数内，不能在函数外调用使用', '_i6': '# 1、函数可以直接调用函数外的变量，但是不能直接使用函数外的变量\\n# 2、函数内定义的变量，叫做局部变量，作用域是函数内，不能在函数外调用使用\\n\\nn=0\\n\\ndef do():\\n    print(n)\\n    n+=1\\n    \\ndo()', 'n': 0, 'do': <function do at 0x000001CD422EEF70>, '_i7': 'a,b,c =0,1,2\\n\\ndef debugger():\\n    globals a,b,c\\n    return a+b+c\\n\\ndebugger()', '_i8': 'a,b,c =0,1,2\\n\\ndef debugger():\\n    global a,b,c\\n    return a+b+c\\n\\ndebugger()', 'a': 0, 'b': 1, 'c': 2, 'debugger': <function debugger at 0x000001CD425C7AF0>, '_8': 3, '_i9': 'a,b,c =0,1,2\\n\\ndef debugger():\\n    global a,b,c\\n    return a+b+c\\n\\ndebugger()\\nprint(globals())\\nprint(locals())', '_i10': 'a,b,c =0,1,2\\n\\ndef debugger():\\n    global a,b,c\\n    return a+b+c\\n\\ndebugger()\\nprint(globals())\\nprint(\"分界线\\\\n\")\\nprint(locals())', '_i11': 'a,b,c =0,1,2\\n\\ndef debugger():\\n    global a,b,c\\n    return a+b+c\\n\\ndebugger()\\nprint(globals())\\nprint(\"---------------------------分界线-------------\\\\n\")\\nprint(locals())', '_i12': 'a,b,c =0,1,2\\n\\ndef debugger():\\n    global a,b,c\\n    return a+b+c\\n\\ndebugger()\\nprint(globals())\\nprint(f\"---------------------------分界线-------------\\\\n\")\\nprint(locals())', '_i13': 'a,b,c =0,1,2\\n\\ndef debugger():\\n    global a,b,c\\n    print(globals())\\n    print(\"\\\\n\")\\n    print(locals())\\n    return a+b+c\\n\\ndebugger()', '_13': 3, '_i14': 'a,b,c =0,1,2\\n\\ndef debugger():\\n    x,y,z =0,1,2\\n    global a,b,c\\n    print(globals())\\n    print(\"\\\\n\")\\n    print(locals())\\n    return a+b+c\\n\\ndebugger()'}\n",
      "\n",
      "\n",
      "{'x': 0, 'y': 1, 'z': 2}\n"
     ]
    },
    {
     "data": {
      "text/plain": [
       "3"
      ]
     },
     "execution_count": 14,
     "metadata": {},
     "output_type": "execute_result"
    }
   ],
   "source": [
    "a,b,c =0,1,2\n",
    "\n",
    "def debugger():\n",
    "    x,y,z =0,1,2\n",
    "    global a,b,c\n",
    "    print(globals())\n",
    "    print(\"\\n\")\n",
    "    print(locals())\n",
    "    return a+b+c\n",
    "\n",
    "debugger()\n"
   ]
  },
  {
   "cell_type": "code",
   "execution_count": 20,
   "metadata": {},
   "outputs": [
    {
     "name": "stdout",
     "output_type": "stream",
     "text": [
      "this is outer...\n",
      "this is inner...\n"
     ]
    }
   ],
   "source": [
    "# 函数内定义的函数，称为就不函数，函数外无法使用\n",
    "\n",
    "def outer():\n",
    "    a=1\n",
    "    print('this is outer...')\n",
    "    def inner():\n",
    "#         a+=1 不在同一作用域也不可使用\n",
    "        print('this is inner...')\n",
    "    inner()\n",
    "\n",
    "outer()\n",
    "# inner()"
   ]
  },
  {
   "cell_type": "markdown",
   "metadata": {},
   "source": [
    "### 函数的封装练习题"
   ]
  },
  {
   "cell_type": "code",
   "execution_count": 26,
   "metadata": {},
   "outputs": [
    {
     "name": "stdout",
     "output_type": "stream",
     "text": [
      "1x1=1 \n",
      "2x1=2 2x2=4 \n",
      "3x1=3 3x2=6 3x3=9 \n",
      "4x1=4 4x2=8 4x3=12 4x4=16 \n",
      "5x1=5 5x2=10 5x3=15 5x4=20 5x5=25 \n",
      "6x1=6 6x2=12 6x3=18 6x4=24 6x5=30 6x6=36 \n",
      "7x1=7 7x2=14 7x3=21 7x4=28 7x5=35 7x6=42 7x7=49 \n",
      "8x1=8 8x2=16 8x3=24 8x4=32 8x5=40 8x6=48 8x7=56 8x8=64 \n",
      "9x1=9 9x2=18 9x3=27 9x4=36 9x5=45 9x6=54 9x7=63 9x8=72 9x9=81 \n"
     ]
    }
   ],
   "source": [
    "# 打印九九乘法表，矩形，十二生肖\n",
    "\n",
    "def chengfa(n=1):\n",
    "    if n ==1:\n",
    "        re =range(9,1,-1)\n",
    "    else:\n",
    "        re =range(1,10)\n",
    "    for i in re:\n",
    "        for j in range(1,i+1):\n",
    "            print(f'{i}x{j}={i*j}',end=' ')\n",
    "        print(\"\")\n",
    "\n",
    "chengfa(0)"
   ]
  }
 ],
 "metadata": {
  "kernelspec": {
   "display_name": "Python 3",
   "language": "python",
   "name": "python3"
  },
  "language_info": {
   "codemirror_mode": {
    "name": "ipython",
    "version": 3
   },
   "file_extension": ".py",
   "mimetype": "text/x-python",
   "name": "python",
   "nbconvert_exporter": "python",
   "pygments_lexer": "ipython3",
   "version": "3.8.5"
  }
 },
 "nbformat": 4,
 "nbformat_minor": 4
}
