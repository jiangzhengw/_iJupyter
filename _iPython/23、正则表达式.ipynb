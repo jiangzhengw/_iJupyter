{
 "cells": [
  {
   "cell_type": "markdown",
   "metadata": {},
   "source": [
    "# Re 正则表达式\n",
    "\n",
    "> 正则表达式，就是使用字符，转义字符和特殊字符组成一个规则，\n",
    "> 使用这个规则对文本的内容完成一个**搜索或匹配或替换的功能**\n",
    "\n",
    "### 正则表达式的组成\n",
    "\n",
    "```\n",
    "普通字符： 大小写字母，数字，符合。。。\n",
    "转义字符：\\w \\W \\d \\D \\s \\S ...\n",
    "特殊字符：.  * ? + ^ $ [] {} ()\n",
    "匹配模式：I U。。。\n",
    "```\n",
    "参考链接：https://docs.python.org/zh-cn/3/library/re.html?highlight=re#module-re"
   ]
  },
  {
   "cell_type": "code",
   "execution_count": 27,
   "metadata": {},
   "outputs": [
    {
     "name": "stdout",
     "output_type": "stream",
     "text": [
      "['love', 'love']\n",
      "123\n"
     ]
    }
   ],
   "source": [
    "# 使用正则表达式进行匹配的 基本语法\n",
    "import re\n",
    "\n",
    "# 定义字符串\n",
    "vars = 'iloveyou521tosim123213idalloveadlove'\n",
    "# 定义正则表达式\n",
    "reg = 'love'\n",
    "\n",
    "# 调用正则函数方法\n",
    "res = re.findall(reg,vars)\n",
    "print(res)\n",
    "\n",
    "reg='\\d\\d\\d'\n",
    "res=re.findall(reg,vars)\n",
    "print(res)"
   ]
  },
  {
   "cell_type": "markdown",
   "metadata": {},
   "source": [
    "### 正则表达式规则定义详解"
   ]
  },
  {
   "cell_type": "markdown",
   "metadata": {},
   "source": [
    "### re模块相关函数\n",
    "\n",
    "#### re.match() 函数\n",
    "\n",
    "+  从头开始匹配\n",
    "+  要么第一个就符合要求，要么不符合\n",
    "+  匹配成功则返回Match对象，否则返回None\n",
    "+  可以使用group()方法获取返回的数据\n",
    "+  可以使用span()方法获取匹配的数据的下标区间\n",
    "\n",
    "#### re.search() 函数\n",
    "\n",
    "    + 从字符串开头到结尾进行搜索式匹配\n",
    "    + 匹配成功则返回Match对象，否则返回None\n",
    "    + 可以使用group()方法获取返回的数据\n",
    "    + 可以使用span()方法获取匹配的数据的下标区间\n",
    "\n",
    "##### search() 和 match() 方法的区别：\n",
    "\n",
    "```\n",
    "match()方法是从字符串的开头进行匹配，如果开始就不符合正则的要求，则匹配失败，返回None\n",
    "search()方法是从字符串的开始位置一直搜索到字符串的最后，如果在整个字符串中都没有匹配到，则失败，返回None\n",
    "```\n",
    "\n",
    "#### re.findall()\n",
    "\n",
    "+ 按照正则表达式的规则在字符中匹配所有符合规则的元素，结果返回一个列表，如果没有找到则返回空列表\n",
    "\n",
    "#### re.finditer()\n",
    "\n",
    "+ 按照正则表达式的规则在字符中匹配所有符合规则的元素，返回一个迭代器\n",
    "\n",
    "#### re.sub() 搜索替换\n",
    "\n",
    "+ 按照正则表达式的规则，在字符串中找到需要 被替换的字符串，完成一个替换\n",
    "+ 参数：\n",
    "  + pattern： 正则表达式的规则，匹配需要被替换的字符串\n",
    "  + repl：    替换后的字符串\n",
    "  + string：  被替换的原始字符串\n",
    "\n",
    "#### compile()\n",
    "\n",
    "​    可以直接将正则表达式定义为 正则对象，使用正则对象直接操作\n",
    "- reg.search()等\n"
   ]
  },
  {
   "cell_type": "code",
   "execution_count": 8,
   "metadata": {},
   "outputs": [
    {
     "name": "stdout",
     "output_type": "stream",
     "text": [
      "['love', 'love']\n",
      "None\n",
      "<re.Match object; span=(29, 33), match='love'>\n",
      "['love', 'love']\n",
      "[<re.Match object; span=(29, 33), match='love'>, <re.Match object; span=(35, 39), match='love'>]\n",
      "love\n",
      "(29, 33)\n",
      "aaahah\n",
      "['I', 'LOVE', 'YOU', '!']\n",
      "123\n",
      "213\n",
      "765\n"
     ]
    }
   ],
   "source": [
    "'''\n",
    "re 练习题\n",
    "'''\n",
    "import re\n",
    "# search() and match()\n",
    "vars = 'ilov123eyou521tosim123213idalloveadlove'\n",
    "reg = 'love'\n",
    "res = re.findall(reg,vars)\n",
    "print(res)\n",
    "res = re.match(reg,vars)\n",
    "print(res)\n",
    "# res = re.match(reg,vars).group()\n",
    "# print(res)\n",
    "# res = re.match(reg,vars).span()\n",
    "# print(res)\n",
    "\n",
    "res=re.search(reg,vars)\n",
    "print(res)\n",
    "\n",
    "\n",
    "# findall() and finditer()\n",
    "res=re.findall(reg,vars)\n",
    "print(res)\n",
    "res=re.finditer(reg,vars)\n",
    "re_iterator=list(res)\n",
    "print(re_iterator)\n",
    "print(re_iterator[0].group())\n",
    "print(re_iterator[0].span())\n",
    "\n",
    "# sub() substitute：替换\n",
    "s='123hah'\n",
    "res=re.sub('\\d\\d\\d','aaa',s)\n",
    "print(res)\n",
    "\n",
    "#split()  split:使分离切割\n",
    "s='I1LOVE2YOU3!'\n",
    "res=re.split('\\d',s)\n",
    "print(res)\n",
    "\n",
    "# compile() :编译\n",
    "l=[\n",
    "    'i 123 aja',\n",
    "    '213haha',\n",
    "    '765kalal'\n",
    "]\n",
    "for i in l:\n",
    "    reg=re.compile('\\d{3}')\n",
    "    res=reg.search(i).group()\n",
    "    print(res)"
   ]
  },
  {
   "cell_type": "code",
   "execution_count": 7,
   "metadata": {},
   "outputs": [],
   "source": [
    "import re\n",
    "\n",
    "# 定义字符串\n",
    "varstr = 'iloveyou521tosimida511'\n",
    "\n",
    "# 正则表达式\n",
    "reg = '\\d{3}'\n",
    "# 函数调用\n",
    "# res = re.findall(reg,varstr)\n",
    "# res = re.finditer(reg,varstr)\n",
    "# print(list(res))\n",
    "\n",
    "# 找到数字，替换成其它\n",
    "# res = re.sub(reg,'AAA',varstr)\n",
    "# print(res)\n",
    "\n",
    "# 直接定义正则表达式对象\n",
    "reg = re.compile('\\d{3}')\n",
    "# 直接使用创建的正则对象，去调用对应的方法或函数\n",
    "res = reg.findall(string=varstr)\n",
    "# print(res)"
   ]
  },
  {
   "cell_type": "markdown",
   "metadata": {},
   "source": [
    "### 正则表达式的规则**"
   ]
  }
 ],
 "metadata": {
  "kernelspec": {
   "display_name": "Python 3",
   "language": "python",
   "name": "python3"
  },
  "language_info": {
   "codemirror_mode": {
    "name": "ipython",
    "version": 3
   },
   "file_extension": ".py",
   "mimetype": "text/x-python",
   "name": "python",
   "nbconvert_exporter": "python",
   "pygments_lexer": "ipython3",
   "version": "3.8.5"
  }
 },
 "nbformat": 4,
 "nbformat_minor": 4
}
