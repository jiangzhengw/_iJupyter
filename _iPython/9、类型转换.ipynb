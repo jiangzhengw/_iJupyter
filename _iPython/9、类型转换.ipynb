{
 "cells": [
  {
   "cell_type": "markdown",
   "metadata": {},
   "source": [
    "### 强制类型转换\n",
    "\n",
    "> python中的每个数据类型都有对应的方法，可以对数据类型进行转换\n",
    "\n",
    "+ str() 可以把所有的其它数据类型转换为字符串类型\n",
    "+ int() 字符串转数字类型时，如果字符串中时纯数字，可以转换\n",
    "  + 其它容器类型不能转为数字int类型\n",
    "+ float() 浮点类型的转换和int类型一样，不过转换的结果是浮点类型\n",
    "+ bool() 可以把其它类型转换布尔类型的True或False\n",
    "  + 总结，哪些情况转bool的结果是 False\n",
    "  + `'',0,0.0,False,[],{},(),set()`\n",
    "+ list() 列表\n",
    "  + 数字类型是 非容器类型，不能转换为列表\n",
    "  + 字符串 转换为列表时  会把字符串中的每一个字符当做列表的元素\n",
    "  + 集合 可以转换为 list列表类型\n",
    "  + 元组 可以转换为 list列表类型\n",
    "  + 字典 可以转换为 list列表类型,只保留了字典中的键\n",
    "+ tuple() 元组\n",
    "  + 数字类型 非容器类型，不能转换为元组\n",
    "  + 其它容器类型的数据进行转换时，和列表一样\n",
    "+ set() 集合\n",
    "  + 数字类型 非容器类型，不能转换为 集合\n",
    "  + 字符串,列表，元组 可以转为 集合 结果是无序的\n",
    "  + 字典转换为集合时，只保留了字典的键 key\n",
    "+ dict() 字典\n",
    "  + 数字类型 非容器类型，不能转换为 字典\n",
    "  + 字符串不能直接转换为 字典\n",
    "  + 列表可以转换为字典，要求是一个二级列表，并且每个二级元素只能有两个值\n",
    "  + 元组可以转换为字典，要求是一个二级元组，并且每个二级元素只能有两个值"
   ]
  },
  {
   "cell_type": "markdown",
   "metadata": {},
   "source": [
    "### 容器类型数据转换"
   ]
  },
  {
   "cell_type": "markdown",
   "metadata": {},
   "source": [
    "+ 非容器类型的数据类型不可转换为list\n",
    "    + 字符串列表元组都可转换，结果是无序的\n",
    "    + 字典转换时，只保留key值\n",
    "+ 非容器类型的数据类型不可转换为元组、集合、字符串同list\n",
    "+ 非容器类型的数据类型不可转换为字典\n",
    "    + "
   ]
  },
  {
   "cell_type": "code",
   "execution_count": 4,
   "metadata": {},
   "outputs": [
    {
     "name": "stdout",
     "output_type": "stream",
     "text": [
      "{1: 2, 3: 4, 5: 6} <class 'dict'>\n"
     ]
    }
   ],
   "source": [
    "a = [[1,2],[3,4],[5,6]]\n",
    "b= dict(a)\n",
    "print(b,type(b))"
   ]
  }
 ],
 "metadata": {
  "kernelspec": {
   "display_name": "Python 3",
   "language": "python",
   "name": "python3"
  },
  "language_info": {
   "codemirror_mode": {
    "name": "ipython",
    "version": 3
   },
   "file_extension": ".py",
   "mimetype": "text/x-python",
   "name": "python",
   "nbconvert_exporter": "python",
   "pygments_lexer": "ipython3",
   "version": "3.8.5"
  }
 },
 "nbformat": 4,
 "nbformat_minor": 4
}
