{
 "cells": [
  {
   "cell_type": "markdown",
   "metadata": {},
   "source": [
    "# 数据类型详解-列表\n",
    "\n",
    "> 列表就是一组有序的数据组合，列表中的数据可以被修改\n",
    "\n",
    "## 列表的定义\n",
    "\n",
    "+ 可以使用 中括号进行定义 [] \n",
    "+ 也可以使用 list函数 定义\n",
    "+ 在定义列表中的元素时，需要在每个元素之间使用逗号，进行分隔。[1,2,3,4]\n",
    "+ 列表中的元素可以是任意类型的，通常用于存放同类项目的集合"
   ]
  },
  {
   "cell_type": "markdown",
   "metadata": {},
   "source": [
    "## 列表的基本操作\n",
    "\n",
    "+ 列表定义-[],list()\n",
    "+ 列表相加-拼接\n",
    "+ 列表相乘-重复\n",
    "+ 列表的下标- 获取,更新\n",
    "+ 列表元素的添加-append()\n",
    "+ 列表元素的删除\n",
    "  + del 列表[下标]\n",
    "  + pop()函数 删除元素"
   ]
  },
  {
   "cell_type": "code",
   "execution_count": 2,
   "metadata": {},
   "outputs": [
    {
     "name": "stdout",
     "output_type": "stream",
     "text": [
      "[]\n",
      "[1, 2, 3, 4, 'a', 'b', 'c', 'd', 'e']\n",
      "['a', 'b', 'c', 'd', 'e', 'a', 'b', 'c', 'd', 'e', 'a', 'b', 'c', 'd', 'e']\n",
      "True\n",
      "False\n",
      "2 b\n",
      "0\n",
      "[1, 2, 3, 4, 'a', 'b', 'c', 'defg', ['h', 'i', 'j', 'k']]\n",
      "9\n",
      "[1, 2, 3, 4, 'a', 'b', 'c', 'd']\n",
      "[1, 2, 3, 4, 'a', 'b', 'c']\n"
     ]
    }
   ],
   "source": [
    "# 定义一个空列表\n",
    "l = []\n",
    "print(l)\n",
    "\n",
    "# 列表的拼接\n",
    "l1=[1,2,3,4]\n",
    "l2=['a','b','c','d','e']\n",
    "res = l1+l2\n",
    "print(res)\n",
    "\n",
    "#列表相乘，列表元素的重复,只能乘整数\n",
    "res=l2*3\n",
    "print(res)\n",
    "\n",
    "# 检测元素是否存在于列表\n",
    "print('a' in l2)\n",
    "print('a' not in l2)\n",
    "\n",
    "# 列表的索引操作\n",
    "# 通过下标获取指定下标元素\n",
    "print(l1[1],l2[1])\n",
    "\n",
    "# 通过下标修改指定下标元素\n",
    "l1[0] = 0\n",
    "print(l1[0])\n",
    "\n",
    "# 不能通过下标添加元素\n",
    "\n",
    "# 向列表中追加元素\n",
    "l=[1,2,3,4,'a','b','c']\n",
    "l.append('defg')\n",
    "# l.append('h','i','j','k') #报错只能接收一个参数\n",
    "l.append(['h','i','j','k'])\n",
    "print(l)\n",
    "\n",
    "# 获取列表的长度\n",
    "print(len(l))\n",
    "\n",
    "# 删除指定下标的元素\n",
    "# 切片删除\n",
    "l=[0,1,2,3,4,'a','b','c','d']\n",
    "del l[0]\n",
    "print(l)\n",
    "\n",
    "# 列表的出栈,弹出最后一个元素,类似删除效果\n",
    "l.pop()\n",
    "print(l)"
   ]
  },
  {
   "cell_type": "markdown",
   "metadata": {},
   "source": [
    "## 列表中切片\n",
    "\n",
    "> 和字符串的切片类似\n",
    "\n",
    "> 语法==> 列表[开始索引:结束索引:步进值]\n",
    "\n",
    "1、 列表[开始索引:]  ==> 从开始索引到列表的最后\n",
    "2、 列表[:结束值]    ==> 从开始到指定的结束索引之前\n",
    "3、 列表[开始索引:结束索引] ==> 从开始索引到指定结束索引之前\n",
    "4、 列表[开始索引:结束索引:步进值] ==> 从指定索引开始到指定索引前结束，按照指定步进进行取值切片\n",
    "5、 列表[:] 或 列表[::] ==> 所有列表元素的切片\n",
    "6、 列表[::-1]  ==> 倒着获取列表的元素"
   ]
  },
  {
   "cell_type": "code",
   "execution_count": null,
   "metadata": {},
   "outputs": [],
   "source": [
    "# 列表的切片操作\n",
    "\n",
    "lis = ['刘德华','张学友','张国荣','黎明','郭富城','小沈阳','刘能','宋小宝','赵四']\n",
    "print(lis[2::])\n",
    "print(lis[:2:])\n",
    "print(lis[2:4:])\n",
    "print(lis[-1::])\n",
    "print(lis[-1:-3:-1])\n",
    "print(lis[-1:-3:])\n",
    "print(lis[-1:2:])\n",
    "print(lis[-1:2:-1])\n",
    "print(lis[::-1])\n",
    "print(lis[::-3])\n",
    "\n",
    "\n",
    "# 使用切片方法对列表数据进行更新\n",
    "\n",
    "# 从指定下标开始，到指定下标前结束，并替换为对应的数据(容器类型数据，会拆分成每个元素进行赋值)\n",
    "lis[0]='姜德华'\n",
    "print(lis)\n",
    "# lis[2:6:]='a'\n",
    "lis[2:6:]='abcd'\n",
    "print(lis)\n",
    "l1=lis\n",
    "l1[2:6:]=['a','b','c']\n",
    "print(lis)\n",
    "\n",
    "# l1[2:6:2]=['a','b','c'] # 带步数的需要与更新元素个数对应 attempt to assign sequence of size 3 to extended slice of size 2"
   ]
  },
  {
   "cell_type": "markdown",
   "metadata": {},
   "source": [
    "## 列表相关函数\n",
    "\n",
    "- len()  检测当前列表的长度，列表中元素的个数\n",
    "\n",
    "\n",
    "- count() 检测当前列表中指定元素出现的次数\n",
    "\n",
    "\n",
    "- append() 向列表的尾部追加新的元素，返回值为 None\n",
    "\n",
    "\n",
    "- insert() 可以向列表中指定的索引位置添加新的元素，长度不够则在尾部添加同append()\n",
    "\n",
    "\n",
    "- pop() 可以对指定索引位置上的元素做 出栈 操作，返回出栈的元素\n",
    "\n",
    "\n",
    "- remove() 可以指定列表中的元素 进行 删除,只删除第一个。如果没有找到，则报错\n",
    "\n",
    "\n",
    "- index() 可以查找指定元素在列表中第一次出现的索引位置\n",
    "\n",
    "\n",
    "- extend() 接收一个容器类型的数据，把容器中的元素追加到原列表中\n",
    "\n",
    "\n",
    "- clear() # 清空列表内容\n",
    "\n",
    "\n",
    "- reverse() 列表翻转\n",
    "\n",
    "\n",
    "- sort() 对列表进行排序,sort(*, key=None, reverse=False)"
   ]
  },
  {
   "cell_type": "code",
   "execution_count": 1,
   "metadata": {},
   "outputs": [
    {
     "name": "stdout",
     "output_type": "stream",
     "text": [
      "10\n",
      "2\n",
      "['刘德华', '张学友', '张国荣', '张学友', '黎明', '郭富城', '小沈阳', '刘能', '宋小宝', '赵四', '川哥', 1234]\n",
      "['刘德华', '张学友', '张国荣', '张学友', '黎明', '郭富城', '小沈阳', '刘能', '宋小宝', '赵四', '川哥', 1234, 'aa']\n",
      "['刘德华', '张学友', '张国荣', '张学友', '黎明', '郭富城', '小沈阳', '刘能', '宋小宝', '赵四', '川哥', 1234, 'bb', 'aa']\n",
      "aa\n",
      "张国荣\n",
      "['刘德华', '张学友', '张学友', '黎明', '郭富城', '小沈阳', '刘能', '宋小宝', '赵四', '川哥', 1234, 'bb']\n",
      "[2, 3, 4, 11, 22, 33, 44, -1, -2, -3, -4]\n",
      "4\n",
      "[2, 3, 4, 11, 22, 33, 44, -1, -2, -3, -4]\n",
      "3\n",
      "[2, 3, 4, 11, 22, 33, 44, -1, -2, -3, -4]\n",
      "[1, 2, 3, 4, 5, 6, '1', '2', '3', 1, 2, 3, 4, 5, 6, 7, 8, 9, 1, 2, 3, 4, 1, 2, 3, 4, 'c', 'a', 'b']\n",
      "[]\n",
      "[-4, -3, -2, -1, 44, 33, 22, 11, 4, 3, 2]\n",
      "[-4, -3, -2, -1, 2, 3, 4, 11, 22, 33, 44]\n",
      "[44, 33, 22, 11, 4, 3, 2, -1, -2, -3, -4]\n",
      "[-1, 2, -2, 3, -3, 4, -4, 11, 22, 33, 44]\n"
     ]
    }
   ],
   "source": [
    "varlist = ['刘德华','张学友','张国荣','张学友','黎明','郭富城','小沈阳','刘能','宋小宝','赵四']\n",
    "\n",
    "# len()  检测当前列表的长度，列表中元素的个数\n",
    "res = len(varlist)\n",
    "print(res)\n",
    "\n",
    "# count() 检测当前列表中指定元素出现的次数\n",
    "res = varlist.count('张学友')\n",
    "print(res)\n",
    "\n",
    "# append() 向列表的尾部追加新的元素，返回值为 None\n",
    "varlist.append('川哥')\n",
    "varlist.append(1234)\n",
    "print(varlist)\n",
    "\n",
    "# insert() 可以向列表中指定的索引位置添加新的元素，长度不够则在尾部添加同append()\n",
    "varlist.insert(20,'aa')\n",
    "print(varlist)\n",
    "varlist.insert(-1,'bb')\n",
    "print(varlist)\n",
    "\n",
    "\n",
    "# pop() 可以对指定索引位置上的元素做 出栈 操作，返回出栈的元素\n",
    "res = varlist.pop() # 默认会把列表中的最后一个元素 出栈\n",
    "print(res)\n",
    "res = varlist.pop(2) # 会在列表中把指定索引的元素进行 出栈\n",
    "print(res)\n",
    "print(varlist)\n",
    "\n",
    "varlist = [1,2,3,4,11,22,33,44,-1,-2,-3,-4]\n",
    "# remove() 可以指定列表中的元素 进行 删除,只删除第一个。如果没有找到，则报错\n",
    "res = varlist.remove(1)\n",
    "print(varlist)\n",
    "\n",
    "# index() 可以查找指定元素在列表中第一次出现的索引位置\n",
    "res = varlist.index(22)\n",
    "print(res)\n",
    "print(varlist)\n",
    "res = varlist.index(11,2,20) # 可以在指定索引范围内查找元素的索引位置\n",
    "print(res)\n",
    "print(varlist)\n",
    "\n",
    "# extend() 接收一个容器类型的数据，把容器中的元素追加到原列表中\n",
    "varlist2=[1,2,3,4,5,6]\n",
    "varlist2.extend('123')\n",
    "varlist2.extend(range(1,10))\n",
    "varlist2.extend([1,2,3,4])\n",
    "varlist2.extend((1,2,3,4))\n",
    "varlist2.extend({'a','b','c'}) # 集合是无序的。\n",
    "print(varlist2)\n",
    "\n",
    "# s.clear() # 清空列表内容\n",
    "varlist2.clear()\n",
    "print(varlist2)\n",
    "\n",
    "\n",
    "# reverse() 列表翻转\n",
    "varlist.reverse()\n",
    "print(varlist)\n",
    "\n",
    "# sort() 对列表进行排序\n",
    "res = varlist.sort() # 默认对元素进行从小到大的排序\n",
    "print(varlist)\n",
    "res = varlist.sort(reverse=True) # 对元素进行从大到小的排序\n",
    "print(varlist)\n",
    "res = varlist.sort(key=abs) # 可以传递一个函数，按照函数的处理结果进行排序\n",
    "print(varlist)"
   ]
  },
  {
   "cell_type": "code",
   "execution_count": 2,
   "metadata": {},
   "outputs": [
    {
     "name": "stdout",
     "output_type": "stream",
     "text": [
      "[[1, 2, 3, 4], ['a', 'b', 'c']]\n"
     ]
    }
   ],
   "source": [
    "a=[1,2,3,4]\n",
    "b=['a','b','c']\n",
    "res=[]\n",
    "res.append(a)\n",
    "res.append(b)\n",
    "print(res)"
   ]
  },
  {
   "cell_type": "markdown",
   "metadata": {},
   "source": [
    "## 深拷贝与浅拷贝\n",
    "\n",
    "### 浅拷贝\n",
    "\n",
    "> 浅拷贝只能拷贝列表中的一维元素，**如果列表中存在二维元素或容器，则引用而不是拷贝**\n",
    ">\n",
    "> 使用cpoy函数或者copy模块中的copy函数拷贝的都是浅拷贝\n"
   ]
  },
  {
   "cell_type": "code",
   "execution_count": null,
   "metadata": {},
   "outputs": [],
   "source": [
    "# copy() 复制当前列表\n",
    "# 简单的拷贝 就可以把列表复制一份\n",
    "varlist = [1,2,3]\n",
    "newlist= varlist.copy()\n",
    "print(newlist)\n",
    "print(varlist)\n",
    "\n",
    "# 对新拷贝的列表进行操作，也是独立的\n",
    "del newlist[1]\n",
    "print(newlist,id(newlist))\n",
    "print(varlist,id(varlist))\n",
    "'''\n",
    "    print(newlist,id(newlist))\n",
    "    print(varlist,id(varlist))\n",
    "    [1, 2, 3] 4332224992\n",
    "    [1, 3] 4332227552\n",
    "'''\n",
    "\n",
    "# 多维列表\n",
    "varlist = [1,2,3,['a','b','c']]\n",
    "\n",
    "# 使用copy函数 拷贝一个多维列表\n",
    "newlist = varlist.copy()\n",
    "print(newlist,id(newlist))\n",
    "print(varlist,id(varlist))\n",
    "'''\n",
    "    print(newlist,id(newlist))\n",
    "    print(varlist,id(varlist))\n",
    "    [1, 2, 3, ['a', 'b', 'c']] 4361085408\n",
    "    [1, 2, 3, ['a', 'b', 'c']] 4361898496\n",
    "'''\n",
    "\n",
    "# 如果是一个被拷贝的列表，对它的多维列表元素进行操作时，会导致原列表中的多维列表也发生了变化\n",
    "'''\n",
    "    通过id检测，发现列表中的多维列表是同一个元素（对象）\n",
    "    print(newlist[3],id(newlist[3]))\n",
    "    print(varlist[3],id(varlist[3]))\n",
    "    ['a', 'c'] 4325397360\n",
    "    ['a', 'c'] 4325397360\n",
    "'''\n",
    "del newlist[3][1]\n",
    "print(newlist,id(newlist))\n",
    "print(varlist,id(varlist))\n",
    "print(newlist[3],id(newlist[3]))\n",
    "print(varlist[3],id(varlist[3]))\n"
   ]
  },
  {
   "cell_type": "markdown",
   "metadata": {},
   "source": [
    "### 深拷贝\n",
    "\n",
    "> 深拷贝就是不光拷贝了当前的列表，**同时把列表中的多维元素或容器也拷贝了一份，而不是引用**\n",
    ">\n",
    "> 使用copy模块中的 deepcopy 函数可以完成深拷贝"
   ]
  },
  {
   "cell_type": "code",
   "execution_count": 1,
   "metadata": {},
   "outputs": [
    {
     "name": "stdout",
     "output_type": "stream",
     "text": [
      "[1, 2, 3, ['a', 'b', 'c']] 2402788158656\n",
      "[1, 2, 3, ['a', 'c']] 2402787947904\n",
      "['a', 'c'] 2402787941824\n",
      "['a', 'b', 'c'] 2402787742784\n"
     ]
    },
    {
     "data": {
      "text/plain": [
       "\"\\n    print(newlist[3],id(newlist[3]))\\n    print(varlist[3],id(varlist[3]))\\n    ['a', 'c'] 4483351248\\n    ['a', 'b', 'c'] 4483003568\\n\""
      ]
     },
     "execution_count": 1,
     "metadata": {},
     "output_type": "execute_result"
    }
   ],
   "source": [
    "# 深拷贝 就是不光拷贝了当前的列表，同时把列表中的多维元素也拷贝了一份\n",
    "import copy\n",
    "\n",
    "varlist = [1,2,3,['a','b','c']]\n",
    "\n",
    "# 使用 copy模块中 深拷贝方法 deepcopy\n",
    "newlist = copy.deepcopy(varlist)\n",
    "del newlist[3][1]\n",
    "\n",
    "print(varlist,id(varlist))\n",
    "print(newlist,id(newlist))\n",
    "print(newlist[3],id(newlist[3]))\n",
    "print(varlist[3],id(varlist[3]))\n",
    "\n",
    "'''\n",
    "    print(newlist[3],id(newlist[3]))\n",
    "    print(varlist[3],id(varlist[3]))\n",
    "    ['a', 'c'] 4483351248\n",
    "    ['a', 'b', 'c'] 4483003568\n",
    "'''"
   ]
  },
  {
   "cell_type": "markdown",
   "metadata": {},
   "source": [
    "\n",
    "\n",
    "## 列表推到式\n",
    "\n",
    ">List-Comprehensions\n",
    ">\n",
    ">列表推导式提供了一个更简单的创建列表的方法。\n",
    ">\n",
    ">常见的用法是把某种操作应用于序列或可迭代对象的每个元素上，然后使用其结果来创建列表，或者通过满足某些特定条件元素来创建子序列。\n",
    ">\n",
    ">采用一种表达式的当时，对数据进行过滤或处理，并且把结果组成一个新的列表"
   ]
  },
  {
   "cell_type": "markdown",
   "metadata": {},
   "source": [
    "\n",
    "### 一、基本的列表推到式使用方式\n",
    "\n",
    "> 结果变量 = [变量或变量的处理结果 for 变量 in 容器类型数据]"
   ]
  },
  {
   "cell_type": "code",
   "execution_count": null,
   "metadata": {},
   "outputs": [],
   "source": [
    "# 1、创建一个平方列表\n",
    "\n",
    "# 普通方法\n",
    "raw_list = []\n",
    "for i in range(1,10):\n",
    "    raw_list.append(i**2)\n",
    "print(raw_list)\n",
    "\n",
    "# map()函数和lambda表达式\n",
    "s = list(map(lambda x:x**2,range(1,10)))\n",
    "print(s)\n",
    "\n",
    "# 列表推导式\n",
    "s = [x**2 for x in range(1,10)]\n",
    "print(s)\n",
    "\n",
    "\n",
    "# 2、'1234' --> [2,4,6,8]\n",
    "\n",
    "# 普通方法\n",
    "target = []\n",
    "s='1234'\n",
    "s=sorted(s)\n",
    "for i in  s:\n",
    "    target.append(int(i)*2)\n",
    "print(target)\n",
    "\n",
    "target = []\n",
    "s='1234'\n",
    "for i in  s:\n",
    "    target.append(int(i)*2)\n",
    "print(target)\n",
    "\n",
    "# 列表推导式\n",
    "target=[int(x)*2 for x in s]\n",
    "print(target)\n",
    "target=[int(x)<<1 for x in s]\n",
    "print(target)"
   ]
  },
  {
   "cell_type": "markdown",
   "metadata": {},
   "source": [
    "\n",
    "### 二、带有判断条件的列表推到式\n",
    "\n",
    "> 结果变量 = [变量或变量的处理结果 for i in 容器类型数据 条件表达式]"
   ]
  },
  {
   "cell_type": "code",
   "execution_count": null,
   "metadata": {},
   "outputs": [],
   "source": [
    "# 1、将两个列表中不相等的元素组合起来\n",
    "\n",
    "# 普通方法\n",
    "combs = []\n",
    "for x in [1,2,3]:\n",
    "    for y in [3,1,4]:\n",
    "        if x != y:\n",
    "            combs.append((x, y))\n",
    "print(combs)\n",
    "\n",
    "# 列表推导式\n",
    "s = [(x, y) for x in [1,2,3] for y in [3,1,4] if x != y]\n",
    "print(s)\n",
    "\n",
    "# 2、0-9 求所有的偶数，==> [0, 2, 4, 6, 8]\n",
    "\n",
    "# 普通方法\n",
    "l=[]\n",
    "for i in range(10):\n",
    "    if i%2==0:\n",
    "        l.append(i)\n",
    "print(l)\n",
    "\n",
    "# 列表推导式\n",
    "l=[x for x in range(10) if x%2==0]\n",
    "print(l)"
   ]
  },
  {
   "cell_type": "markdown",
   "metadata": {},
   "source": [
    "### 三、对于嵌套循环的列表推到式"
   ]
  },
  {
   "cell_type": "code",
   "execution_count": null,
   "metadata": {},
   "outputs": [],
   "source": [
    "# 1、 转置3x4 矩阵的行和列\n",
    "matrix = [\n",
    "    [1, 2, 3, 4],\n",
    "    [5, 6, 7, 8],\n",
    "    [9, 10, 11, 12]\n",
    "]\n",
    "\n",
    "# 普通方法\n",
    "l=[]\n",
    "for i in range(4):\n",
    "    l_raw=[]\n",
    "    for raw in matrix:\n",
    "        l_raw.append(raw[i])\n",
    "    l.append(l_raw)\n",
    "print(l)\n",
    "\n",
    "# 普通方法+一层列表推导式\n",
    "s=[]\n",
    "for i in range(4):\n",
    "    s.append([raw[i] for raw in matrix])\n",
    "print(s)\n",
    "\n",
    "# 列表推导式\n",
    "s=[[i[x] for i in matrix] for x in range(4)]\n",
    "print(s)\n",
    "\n",
    "# np三方库\n",
    "import numpy as np\n",
    "s=np.transpose(matrix).tolist()\n",
    "print(s)\n",
    "\n",
    "# 内置函数\n",
    "s =list(zip(*matrix))\n",
    "print(*matrix)\n",
    "print(s)"
   ]
  },
  {
   "cell_type": "markdown",
   "metadata": {},
   "source": [
    "### 四、练习题"
   ]
  },
  {
   "cell_type": "code",
   "execution_count": null,
   "metadata": {},
   "outputs": [],
   "source": [
    "# 题1：{'user','admin','age','20','phone','133'} 转换为 ['user=admin','age=20','phone=133']\n",
    "\n",
    "\n",
    "# 普通方法\n",
    "d={'user':'admin','age':'20','phone':'133'}\n",
    "s=[]\n",
    "for k,v in d.items():\n",
    "    s.append(f'{k}={v}')\n",
    "print(s)\n",
    "\n",
    "# 列表推导式\n",
    "s1=[f'{k}={v}' for k,v in d.items()]\n",
    "s2=[str(k)+'='+str(d[k]) for k in d]\n",
    "print(s1)\n",
    "print(s2)\n",
    "print('&'.join(s))"
   ]
  },
  {
   "cell_type": "code",
   "execution_count": null,
   "metadata": {},
   "outputs": [],
   "source": [
    "# 题2：列表中的字符全部转换为小写,['AAAAA','BBBbbbBB',\"cccccc\"]  转换为['aaaaa', 'bbbbbbbb', 'cccccc']\n",
    "\n",
    "l=['AAAAA','BBBbbbBB',\"cccccc\"] \n",
    "print([x.lower() for x in ['AAAAA','BBBbbbBB',\"cccccc\"] ])"
   ]
  },
  {
   "cell_type": "code",
   "execution_count": 6,
   "metadata": {},
   "outputs": [
    {
     "name": "stdout",
     "output_type": "stream",
     "text": [
      "[(0, 1), (0, 3), (0, 5), (2, 1), (2, 3), (2, 5), (4, 1), (4, 3), (4, 5)]\n",
      "[(0, 1), (0, 3), (0, 5), (2, 1), (2, 3), (2, 5), (4, 1), (4, 3), (4, 5)]\n",
      "[(0, 1), (0, 3), (0, 5), (2, 1), (2, 3), (2, 5), (4, 1), (4, 3), (4, 5)]\n"
     ]
    }
   ],
   "source": [
    "# 题3：x是0-5之间的偶数，y是0-5之间的技术，把x，y组成一个元组，放到列表内\n",
    "\n",
    "# 普通方法\n",
    "l=[]\n",
    "for i in range(6):\n",
    "    for j in range(6):\n",
    "        if i%2==0 and j%2!=0:\n",
    "            l.append((i,j))\n",
    "print(l)\n",
    "                     \n",
    "# 列表推导式\n",
    "import random\n",
    "t1=[(x,y) for x in range(6) if x%2==0 for y in range(6) if y%2==1]\n",
    "t2=[(x,y) for x in range(6) for y in range(6) if x%2==0 and y%2!=0]\n",
    "print(t1)\n",
    "print(t2)"
   ]
  },
  {
   "cell_type": "code",
   "execution_count": 19,
   "metadata": {
    "scrolled": true
   },
   "outputs": [
    {
     "name": "stdout",
     "output_type": "stream",
     "text": [
      "1*1=1 \n",
      "2*1=2 2*2=4 \n",
      "3*1=3 3*2=6 3*3=9 \n",
      "4*1=4 4*2=8 4*3=12 4*4=16 \n",
      "5*1=5 5*2=10 5*3=15 5*4=20 5*5=25 \n",
      "6*1=6 6*2=12 6*3=18 6*4=24 6*5=30 6*6=36 \n",
      "7*1=7 7*2=14 7*3=21 7*4=28 7*5=35 7*6=42 7*7=49 \n",
      "8*1=8 8*2=16 8*3=24 8*4=32 8*5=40 8*6=48 8*7=56 8*8=64 \n",
      "9*1=9 9*2=18 9*3=27 9*4=36 9*5=45 9*6=54 9*7=63 9*8=72 9*9=81 \n",
      "\n",
      "1*1=1 2*1=2 2*2=4 3*1=3 3*2=6 3*3=9 4*1=4 4*2=8 4*3=12 4*4=16 5*1=5 5*2=10 5*3=15 5*4=20 5*5=25 6*1=6 6*2=12 6*3=18 6*4=24 6*5=30 6*6=36 7*1=7 7*2=14 7*3=21 7*4=28 7*5=35 7*6=42 7*7=49 8*1=8 8*2=16 8*3=24 8*4=32 8*5=40 8*6=48 8*7=56 8*8=64 9*1=9 9*2=18 9*3=27 9*4=36 9*5=45 9*6=54 9*7=63 9*8=72 9*9=81\n"
     ]
    }
   ],
   "source": [
    "# 题四：列表推导式 实现99乘法表\n",
    "\n",
    "# 普通方法\n",
    "for i in range(1,10):\n",
    "    for j in range(1,i+1):\n",
    "        print(f'{i}*{j}={i*j}',end=' ')\n",
    "    print()\n",
    "    \n",
    "# 列表推导式\n",
    "s=['{}*{}={}'.format(i,j,i*j) for i in range(1,10) for j in range(1,i+1)]\n",
    "print()\n",
    "print(' '.join(s))"
   ]
  },
  {
   "cell_type": "code",
   "execution_count": 35,
   "metadata": {},
   "outputs": [
    {
     "name": "stdout",
     "output_type": "stream",
     "text": [
      "[[1, 2, 3], [8, 10, 12], [21, 24, 27]]\n",
      "[[1, 2, 3], [8, 10, 12], [21, 24, 27]]\n"
     ]
    }
   ],
   "source": [
    "#题5：求M N中矩阵和元素的乘积\n",
    "m=[\n",
    "    [1,2,3],\n",
    "    [4,5,6],\n",
    "    [7,8,9]\n",
    "]\n",
    "n=[\n",
    "    [1,1,1],\n",
    "    [2,2,2],\n",
    "    [3,3,3]\n",
    "]\n",
    "\n",
    "# 普通方法\n",
    "l1=[]\n",
    "for x in range(len(m)):\n",
    "    l2=[]\n",
    "    for y in range(len(n)):\n",
    "        s=m[x][y]*n[x][y]\n",
    "        l2.append(s)\n",
    "#         print(l2)\n",
    "#     print('---')    \n",
    "    l1.append(l2)\n",
    "print(l1)\n",
    "\n",
    "# 列表推导式\n",
    "t=[[m[x][y]*n[x][y] for y in range(len(n))] for x in range(len(m))]\n",
    "print(t)"
   ]
  }
 ],
 "metadata": {
  "kernelspec": {
   "display_name": "Python 3",
   "language": "python",
   "name": "python3"
  },
  "language_info": {
   "codemirror_mode": {
    "name": "ipython",
    "version": 3
   },
   "file_extension": ".py",
   "mimetype": "text/x-python",
   "name": "python",
   "nbconvert_exporter": "python",
   "pygments_lexer": "ipython3",
   "version": "3.8.5"
  }
 },
 "nbformat": 4,
 "nbformat_minor": 4
}
