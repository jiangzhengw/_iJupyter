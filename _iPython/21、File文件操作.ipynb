{
 "cells": [
  {
   "cell_type": "markdown",
   "metadata": {},
   "source": [
    "# Python中的File(文件)操作\n",
    "\n",
    "> 针对磁盘中的文件的读写。文件I/O  I 输入(input) O输出（Output）\n",
    ">\n",
    "> 文件操作步骤：1.打开文件    2.读写文件  3.关闭文件\n",
    "\n",
    "#### 写入文件的操作：（把大象装进冰箱）\n",
    "\n",
    "1. 打开文件 open()   ==> 打开冰箱\n",
    "2. 写入内容 write()   ==> 把大象装进冰箱\n",
    "3. 关闭文件 close()   ==> 关闭冰箱门\n",
    "\n",
    "#### 读取文件的操作：（把大象从冰箱中取出）\n",
    "\n",
    "1. 打开文件 open()  ==> 打开冰箱门\n",
    "2. 读取内容 read()   ==> 把大象拿出来\n",
    "3. 关闭文件 close()  ==> 关闭冰箱门\n",
    "\n"
   ]
  },
  {
   "cell_type": "markdown",
   "metadata": {},
   "source": [
    "### 文件操作相关函数\n",
    "\n",
    "####  open() 打开文件\n",
    "\n",
    "> 格式： open(文件的路径，打开的方式，[字符集])，os.open(file, flags[, mode]);\n",
    "\n",
    "参考链接：https://docs.python.org/zh-cn/3/library/functions.html#open\n",
    "\n",
    "\n",
    "#### Seek() 设置文件指针的位置\n",
    "\n",
    "\n",
    "#### write() 写入内容\n",
    "\n",
    "> 格式：文件对象.write(字符串)\n",
    "\n",
    "#### writelines() 写入容器类型数据\n",
    "\n",
    "> 格式：文件对象.write(容器类型数据)\n",
    ">\n",
    "> 注意：容器类型数据中的元素也必须是可写入的字符串类型\n",
    "\n",
    "\n",
    "\n",
    "#### read() 读取内容\n",
    "\n",
    "> 格式：文件对象.read()    从当前指针位置读取到最后\n",
    ">\n",
    "> 格式：文件对象.read(读取的字节数)  可以读取指定长度的字符 \n",
    "\n",
    "\n",
    "\n",
    "#### readline() 读取一行\n",
    "\n",
    ">格式： 文件对象.readline() 一次读取一行\n",
    ">\n",
    ">格式： 文件对象.readline(字节数) 一次读取一行中指定长度的字节\n",
    "\n",
    "\n",
    "\n",
    "#### readlines() 读取所有行\n",
    "\n",
    "> 格式： 文件对象.readlines() 读取所有行，每一行作为一个元素，返回了一个列表\n",
    ">\n",
    "> 格式：文件对象.readlines(6) 按照行进行读取，可以设置读取的字节数，设置的字节数不足一行按一行算\n",
    "\n",
    "\n",
    "\n",
    "#### close() 关闭文件\n",
    "\n",
    "> 格式：文件对象.close()   关闭打开的文件\n",
    "\n"
   ]
  },
  {
   "cell_type": "markdown",
   "metadata": {},
   "source": []
  }
 ],
 "metadata": {
  "kernelspec": {
   "display_name": "Python 3",
   "language": "python",
   "name": "python3"
  },
  "language_info": {
   "codemirror_mode": {
    "name": "ipython",
    "version": 3
   },
   "file_extension": ".py",
   "mimetype": "text/x-python",
   "name": "python",
   "nbconvert_exporter": "python",
   "pygments_lexer": "ipython3",
   "version": "3.8.5"
  }
 },
 "nbformat": 4,
 "nbformat_minor": 4
}
