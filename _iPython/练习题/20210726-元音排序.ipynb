{
 "cells": [
  {
   "cell_type": "markdown",
   "metadata": {},
   "source": [
    "**请编写一个函数，接收一个字符串列表作为它的参数，然后对每个字符串进行处理，并根据字符串中可能包含的单个最长的连续元音子字符串的长度进行排序(按下行顺序排序)。**\n",
    "\n",
    "\n",
    "**字符串可能包含字母、数字、特殊字符、大写字母、小写字母、空格，并且可能(通常)有多个连续元音子字符串。我们只对输入列表中每个字符串中单个最长的元音子字符串感兴趣。**\n",
    "\n",
    "\n",
    "**示例：**\n",
    "\n",
    "\n",
    "**str1 = \"what a beautiful day today\"**\n",
    "**str2 = \"it's okay, but very breezy\"**\n",
    "**当对字符串进行排序时，str1将首先排序，因为它最长的连续元音“ eau”子字符串长度为3，而 str2最长的连续元音“ ee”子字符串长度为2。**\n",
    "\n",
    "\n",
    "**如果列表中的两个或多个字符串具有相同长度的最大子字符串，那么这些字符串应该保持它们在原列表中的顺序。**"
   ]
  },
  {
   "cell_type": "code",
   "execution_count": null,
   "metadata": {},
   "outputs": [],
   "source": []
  }
 ],
 "metadata": {
  "kernelspec": {
   "display_name": "Python 3",
   "language": "python",
   "name": "python3"
  },
  "language_info": {
   "codemirror_mode": {
    "name": "ipython",
    "version": 3
   },
   "file_extension": ".py",
   "mimetype": "text/x-python",
   "name": "python",
   "nbconvert_exporter": "python",
   "pygments_lexer": "ipython3",
   "version": "3.8.5"
  }
 },
 "nbformat": 4,
 "nbformat_minor": 4
}
