{
 "cells": [
  {
   "cell_type": "code",
   "execution_count": 11,
   "metadata": {},
   "outputs": [
    {
     "name": "stdout",
     "output_type": "stream",
     "text": [
      "1x1=1 \n",
      "2x1=2 2x2=4 \n",
      "3x1=3 3x2=6 3x3=9 \n",
      "4x1=4 4x2=8 4x3=12 4x4=16 \n",
      "5x1=5 5x2=10 5x3=15 5x4=20 5x5=25 \n",
      "6x1=6 6x2=12 6x3=18 6x4=24 6x5=30 6x6=36 \n",
      "7x1=7 7x2=14 7x3=21 7x4=28 7x5=35 7x6=42 7x7=49 \n",
      "8x1=8 8x2=16 8x3=24 8x4=32 8x5=40 8x6=48 8x7=56 8x8=64 \n",
      "9x1=9 9x2=18 9x3=27 9x4=36 9x5=45 9x6=54 9x7=63 9x8=72 9x9=81 \n",
      "\n",
      "9x1=9 9x2=18 9x3=27 9x4=36 9x5=45 9x6=54 9x7=63 9x8=72 9x9=81 \n",
      "8x1=8 8x2=16 8x3=24 8x4=32 8x5=40 8x6=48 8x7=56 8x8=64 \n",
      "7x1=7 7x2=14 7x3=21 7x4=28 7x5=35 7x6=42 7x7=49 \n",
      "6x1=6 6x2=12 6x3=18 6x4=24 6x5=30 6x6=36 \n",
      "5x1=5 5x2=10 5x3=15 5x4=20 5x5=25 \n",
      "4x1=4 4x2=8 4x3=12 4x4=16 \n",
      "3x1=3 3x2=6 3x3=9 \n",
      "2x1=2 2x2=4 \n",
      "1x1=1 \n"
     ]
    }
   ],
   "source": [
    "# 打印99乘法表 \n",
    "def nine(n):\n",
    "    if n==1:\n",
    "        res = range(1,10)\n",
    "    else:\n",
    "        res = range(9,0,-1)\n",
    "    for i in res:\n",
    "        for j in range(1,i+1):\n",
    "            print(f'{i}x{j}={i*j}',end=\" \")\n",
    "        print()\n",
    "            \n",
    "nine(1)\n",
    "print(\"\")\n",
    "nine(0)"
   ]
  },
  {
   "cell_type": "code",
   "execution_count": 8,
   "metadata": {
    "scrolled": true
   },
   "outputs": [
    {
     "name": "stdout",
     "output_type": "stream",
     "text": [
      "\n",
      "1*1=1\n",
      "1*2=2 2*2=4\n",
      "1*3=3 2*3=6 3*3=9\n",
      "1*4=4 2*4=8 3*4=12 4*4=16\n",
      "1*5=5 2*5=10 3*5=15 4*5=20 5*5=25\n",
      "1*6=6 2*6=12 3*6=18 4*6=24 5*6=30 6*6=36\n",
      "1*7=7 2*7=14 3*7=21 4*7=28 5*7=35 6*7=42 7*7=49\n",
      "1*8=8 2*8=16 3*8=24 4*8=32 5*8=40 6*8=48 7*8=56 8*8=64\n",
      "1*9=9 2*9=18 3*9=27 4*9=36 5*9=45 6*9=54 7*9=63 8*9=72 9*9=81\n"
     ]
    }
   ],
   "source": [
    "# 列表推导式方法\n",
    "for i in range(10):\n",
    "    print(\" \".join([f'{j}*{i}={i*j}' for j in range(1,i+1)]))"
   ]
  }
 ],
 "metadata": {
  "kernelspec": {
   "display_name": "Python 3",
   "language": "python",
   "name": "python3"
  },
  "language_info": {
   "codemirror_mode": {
    "name": "ipython",
    "version": 3
   },
   "file_extension": ".py",
   "mimetype": "text/x-python",
   "name": "python",
   "nbconvert_exporter": "python",
   "pygments_lexer": "ipython3",
   "version": "3.8.5"
  }
 },
 "nbformat": 4,
 "nbformat_minor": 4
}
