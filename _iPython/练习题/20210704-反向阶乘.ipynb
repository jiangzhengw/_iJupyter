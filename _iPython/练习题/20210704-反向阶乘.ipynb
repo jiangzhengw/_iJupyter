{
 "cells": [
  {
   "cell_type": "code",
   "execution_count": 1,
   "metadata": {},
   "outputs": [],
   "source": [
    "import math \n",
    "\n",
    "def reverse_factorial(num:int)->int:\n",
    "    if num<=2:\n",
    "        return num\n",
    "    for i in range(1,num//2+1):\n",
    "        if math.factorial(i)==num:\n",
    "            return i\n",
    "    return None\n",
    "        \n",
    "assert reverse_factorial(6) == 3\n",
    "assert reverse_factorial(120) == 5\n",
    "assert reverse_factorial(24) == 4\n",
    "assert reverse_factorial(150) is None"
   ]
  }
 ],
 "metadata": {
  "kernelspec": {
   "display_name": "Python 3",
   "language": "python",
   "name": "python3"
  },
  "language_info": {
   "codemirror_mode": {
    "name": "ipython",
    "version": 3
   },
   "file_extension": ".py",
   "mimetype": "text/x-python",
   "name": "python",
   "nbconvert_exporter": "python",
   "pygments_lexer": "ipython3",
   "version": "3.8.5"
  }
 },
 "nbformat": 4,
 "nbformat_minor": 4
}
