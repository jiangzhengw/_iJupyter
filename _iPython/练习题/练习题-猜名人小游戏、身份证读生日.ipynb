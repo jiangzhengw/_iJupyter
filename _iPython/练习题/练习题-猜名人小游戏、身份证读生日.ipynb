{
 "cells": [
  {
   "cell_type": "markdown",
   "metadata": {},
   "source": [
    "### 猜名人"
   ]
  },
  {
   "cell_type": "code",
   "execution_count": null,
   "metadata": {
    "scrolled": true
   },
   "outputs": [],
   "source": [
    "import random\n",
    "\n",
    "character_1='他是巨星'\n",
    "character_2='他是篮球健将'\n",
    "character_3='他身高超过2米'\n",
    "character_4='他爱国'\n",
    "character_5='他是北京申办冬奥会形象大使之一'\n",
    "character_6='他是NBA球星麦蒂的队友'\n",
    "character_7='他喜欢做慈善'\n",
    "character_8='他是上海人'\n",
    "character_9='汶川地震他捐款1600万'\n",
    "character_10='他是中国人'\n",
    "man='姚明'\n",
    "\n",
    "all_character=[character_1,character_2,character_3,character_4,character_5,character_6,character_7,character_8,character_9,character_10]\n",
    "\n",
    "print('*'*60)\n",
    "print('''\n",
    "                ---欢迎来到名人猜GAME---              ''')\n",
    "print('''\n",
    "**游戏设置10次提醒，提醒一次你猜一次！系统会记录你猜多少次可以猜中！**\n",
    "                         **祝你好运**\n",
    "''')\n",
    "print('*'*60)\n",
    "print('''\n",
    "                   Let's Begin!\n",
    "                     ________\n",
    "''')\n",
    "\n",
    "def random_index(start,end):\n",
    "    '''返回index'''\n",
    "    index=random.randint(start,end-1)\n",
    "    return index\n",
    "counter=0\n",
    "while len(all_character)>0:\n",
    "    counter+=1\n",
    "    index=random_index(0,len(all_character))\n",
    "    print('提示%d->'%counter,all_character[index])\n",
    "    gess = input('你猜测的答案为：')\n",
    "    if gess==man:\n",
    "        print('猜对了，猜了%d次'%counter)\n",
    "        break\n",
    "    else:\n",
    "        all_character.pop(index)\n",
    "        if counter==10:\n",
    "            print('机会用完了,闯关失败！')\n",
    "            break\n",
    "        else:\n",
    "            print('再试一次吧！')\n",
    "    "
   ]
  },
  {
   "cell_type": "markdown",
   "metadata": {},
   "source": [
    "### 身份证读生日"
   ]
  },
  {
   "cell_type": "code",
   "execution_count": 3,
   "metadata": {},
   "outputs": [
    {
     "name": "stdout",
     "output_type": "stream",
     "text": [
      "1997-04-19\n",
      "男\n",
      "24\n"
     ]
    }
   ],
   "source": [
    "import datetime\n",
    "\n",
    "class GetInfo:\n",
    "    \"\"\"获取信息\"\"\"\n",
    "    \n",
    "    370110199704191010\n",
    "    def __init__(self,id):\n",
    "        self.id =id\n",
    "        self.birth_year =self.id[6:10]\n",
    "        self.birth_month =self.id[10:12]\n",
    "        self.birth_day =self.id[12:14]\n",
    "        \n",
    "        \n",
    "    def get_birthday(self):\n",
    "        \"\"\"返回生日\"\"\"\n",
    "        return '{0}-{1}-{2}'.format(self.birth_year,self.birth_month,self.birth_day)\n",
    "    \n",
    "    def get_sex(self):\n",
    "        \"\"\"返回性别\"\"\"\n",
    "        if int(self.id[16:17])%2 ==0:\n",
    "            return \"女\"\n",
    "        else:\n",
    "            return \"男\"\n",
    "        \n",
    "    def get_age(self):\n",
    "        \"\"\"返回年龄\"\"\"\n",
    "#          now = (datetime.datetime.now()+ datetime.timedelta(days=1))\n",
    "        now = (datetime.datetime.now())\n",
    "        year = now.year\n",
    "        month = now.month\n",
    "        day = now.day\n",
    "        if year == self.birth_year:\n",
    "            return 0\n",
    "        else:\n",
    "            if int(self.birth_month) > month or (int(self.birth_month) == month and int(self.birth_day) > day):\n",
    "                return year - int(self.birth_year) - 1\n",
    "            else:\n",
    "                return year - int(self.birth_year)\n",
    "\n",
    "id='370281199704191618'\n",
    "s =GetInfo(id)\n",
    "print(s.get_birthday())\n",
    "print(s.get_sex())\n",
    "print(s.get_age())"
   ]
  },
  {
   "cell_type": "markdown",
   "metadata": {},
   "source": [
    "### datetime and timedelta"
   ]
  },
  {
   "cell_type": "markdown",
   "metadata": {},
   "source": [
    "官方文档解释：\n",
    "\n",
    "datetime 类对象\n",
    "datetime 模块提供用于处理日期和时间的类。\n",
    "\n",
    "timedelta 类对象\n",
    "timedelta 对象表示两个 date 或者 time 的时间间隔。\n",
    "\n",
    "class datetime.timedelta(days=0, seconds=0, microseconds=0, milliseconds=0, minutes=0, hours=0, weeks=0)"
   ]
  },
  {
   "cell_type": "code",
   "execution_count": 5,
   "metadata": {},
   "outputs": [
    {
     "name": "stdout",
     "output_type": "stream",
     "text": [
      "23:49:33\n"
     ]
    }
   ],
   "source": [
    "import datetime\n",
    "\n",
    "time1 = datetime.timedelta(days=1,seconds=27,minutes=10)\n",
    "time2 = datetime.timedelta(days=2)\n",
    "print(time2-time1)"
   ]
  }
 ],
 "metadata": {
  "kernelspec": {
   "display_name": "Python 3",
   "language": "python",
   "name": "python3"
  },
  "language_info": {
   "codemirror_mode": {
    "name": "ipython",
    "version": 3
   },
   "file_extension": ".py",
   "mimetype": "text/x-python",
   "name": "python",
   "nbconvert_exporter": "python",
   "pygments_lexer": "ipython3",
   "version": "3.8.5"
  }
 },
 "nbformat": 4,
 "nbformat_minor": 4
}
