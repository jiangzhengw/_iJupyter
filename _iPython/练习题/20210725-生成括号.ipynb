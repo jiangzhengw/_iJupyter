{
 "cells": [
  {
   "cell_type": "markdown",
   "metadata": {},
   "source": [
    "数字 n 代表生成括号的对数，请编写一个python函数，接收数字n，返回所有可能的并且有效的括号组合。\n",
    "\n",
    "示例：\n",
    "\n",
    "\n",
    "输入：n = 3\n",
    "输出：[\"((()))\",\"(()())\",\"(())()\",\"()(())\",\"()()()\"]\n",
    "\n",
    "题目难度：中等\n",
    "题目来源：力扣 22 5"
   ]
  },
  {
   "cell_type": "code",
   "execution_count": 13,
   "metadata": {},
   "outputs": [
    {
     "name": "stdout",
     "output_type": "stream",
     "text": [
      "[')', ')', '(']\n"
     ]
    }
   ],
   "source": [
    "# 思路：定义一个生成方法根据n生成对应的字符串，然后创建一个缓存列表，如果重复直接就跳出n次循环继续执行\n",
    "# 重点是怎么随机生成子串，然后考虑优化策略\n",
    "\n",
    "import random\n",
    "# 笨方法\n",
    "def generate(n):\n",
    "#     先循环n次\n",
    "    l=[]\n",
    "    while n>0:\n",
    "        for i in range(n):\n",
    "            s=''\n",
    "            is_left =random.randint(1,2)\n",
    "            if is_left==1:\n",
    "                s=s+'('\n",
    "            else:\n",
    "                s=s+')'\n",
    "        l.append(s)\n",
    "        n-=1\n",
    "    return l\n",
    "\n",
    "print(generate(3))"
   ]
  },
  {
   "cell_type": "code",
   "execution_count": 11,
   "metadata": {},
   "outputs": [
    {
     "data": {
      "text/plain": [
       "1"
      ]
     },
     "execution_count": 11,
     "metadata": {},
     "output_type": "execute_result"
    }
   ],
   "source": []
  }
 ],
 "metadata": {
  "kernelspec": {
   "display_name": "Python 3",
   "language": "python",
   "name": "python3"
  },
  "language_info": {
   "codemirror_mode": {
    "name": "ipython",
    "version": 3
   },
   "file_extension": ".py",
   "mimetype": "text/x-python",
   "name": "python",
   "nbconvert_exporter": "python",
   "pygments_lexer": "ipython3",
   "version": "3.8.5"
  }
 },
 "nbformat": 4,
 "nbformat_minor": 4
}
