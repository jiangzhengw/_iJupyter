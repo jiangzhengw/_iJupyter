{
 "cells": [
  {
   "cell_type": "markdown",
   "metadata": {},
   "source": [
    "### 菲波那切数列\n",
    "\n",
    "#### 0，1,1,2,3,5,8,13……\n",
    "\n",
    "第零项如果是0，name第一项是1，第二项也为1，之后的第三项开始，每一项都为前面两数的和\n",
    "\n",
    "参考链接:https://www.cnblogs.com/panlq/p/9307203.html"
   ]
  },
  {
   "cell_type": "code",
   "execution_count": 3,
   "metadata": {},
   "outputs": [
    {
     "name": "stdout",
     "output_type": "stream",
     "text": [
      "请输入要计算第几项斐波那契数（整数）!9\n"
     ]
    },
    {
     "data": {
      "text/plain": [
       "21"
      ]
     },
     "execution_count": 3,
     "metadata": {},
     "output_type": "execute_result"
    }
   ],
   "source": [
    "# 思路单独判断 特殊情况，其他情况循环相加即可。\n",
    "\n",
    "def fs(n):\n",
    "    \n",
    "    n1=0\n",
    "    n2=1\n",
    "    count = 2\n",
    "    if n<=0:\n",
    "        print('请输入一个大于零的整数')\n",
    "    if n ==1:\n",
    "        return n1\n",
    "    elif n==2:\n",
    "        return n2\n",
    "    else:\n",
    "        while count < n:\n",
    "            n3 =n1+n2\n",
    "            n1,n2 =n2,n3\n",
    "            count+=1\n",
    "        return n2\n",
    "    \n",
    "i=int(input('请输入要计算第几项斐波那契数（整数）!'))\n",
    "fs(i)    \n",
    "\n",
    "        \n",
    "    \n",
    "        \n",
    "        "
   ]
  },
  {
   "cell_type": "code",
   "execution_count": 11,
   "metadata": {},
   "outputs": [
    {
     "name": "stdout",
     "output_type": "stream",
     "text": [
      "请输入要计算第几项斐波那契数（整数）!3\n"
     ]
    },
    {
     "data": {
      "text/plain": [
       "1"
      ]
     },
     "execution_count": 11,
     "metadata": {},
     "output_type": "execute_result"
    }
   ],
   "source": [
    "# 第一种递归法,时间复杂度最高。\n",
    "\n",
    "def fib_1(n):\n",
    "#     判断是否为前两位\n",
    "    assert n >= 0, \"n > 0\"\n",
    "    if n <=2:\n",
    "        return n-1\n",
    "    else:\n",
    "        return fib_1(n-1)+fib_1(n-2)\n",
    "\n",
    "i=int(input('请输入要计算第几项斐波那契数（整数）!'))\n",
    "fib_1(i)\n"
   ]
  },
  {
   "cell_type": "code",
   "execution_count": 15,
   "metadata": {},
   "outputs": [
    {
     "name": "stdout",
     "output_type": "stream",
     "text": [
      "请输入要计算第几项斐波那契数（整数）!8\n"
     ]
    },
    {
     "data": {
      "text/plain": [
       "13"
      ]
     },
     "execution_count": 15,
     "metadata": {},
     "output_type": "execute_result"
    }
   ],
   "source": [
    "# 第二种递推法,递增法\n",
    "\n",
    "\n",
    "def fib_2(n):\n",
    "    n1,n2=0,1\n",
    "    count = 2\n",
    "    if n<=0:\n",
    "        print('请输入一个大于零的整数')\n",
    "    if n ==1:\n",
    "        return n1\n",
    "    elif n==2:\n",
    "        return n2\n",
    "    else:\n",
    "        while count < n:\n",
    "            n3 =n1+n2\n",
    "            n1,n2 =n2,n3\n",
    "            count+=1\n",
    "        return n2\n",
    "    \n",
    "i=int(input('请输入要计算第几项斐波那契数（整数）!'))\n",
    "fib_2(i)    "
   ]
  },
  {
   "cell_type": "code",
   "execution_count": 2,
   "metadata": {},
   "outputs": [
    {
     "name": "stdout",
     "output_type": "stream",
     "text": [
      "请输入要计算第几项斐波那契数（整数）!6\n",
      "0\n",
      "1\n",
      "2\n",
      "3\n",
      "4\n",
      "5\n"
     ]
    }
   ],
   "source": [
    "# 第三种生成器\n",
    "\n",
    "def fib_3(number):\n",
    "    n, a, b = 0, 0, 1\n",
    "    while n < number:\n",
    "        yield b\n",
    "        a, b = b, a + b\n",
    "        n = n + 1\n",
    "        \n",
    "i=int(input('请输入要计算第几项斐波那契数（整数）!'))\n",
    "for i in range(i):\n",
    "    print(i)\n",
    "        "
   ]
  },
  {
   "cell_type": "code",
   "execution_count": 3,
   "metadata": {
    "scrolled": false
   },
   "outputs": [
    {
     "name": "stdout",
     "output_type": "stream",
     "text": [
      "1\n",
      "1\n",
      "2\n",
      "3\n",
      "5\n",
      "8\n",
      "13\n",
      "21\n",
      "34\n",
      "55\n",
      "89\n",
      "144\n",
      "233\n",
      "377\n",
      "610\n"
     ]
    }
   ],
   "source": [
    "# 第四种类实现内部魔法方法\n",
    "\n",
    "class Fibonacci(object):\n",
    "    \"\"\"斐波那契数列迭代器\"\"\"\n",
    "\n",
    "    def __init__(self, n):\n",
    "        \"\"\"\n",
    "        :param n:int 指 生成数列的个数\n",
    "        \"\"\"\n",
    "        self.n = n\n",
    "        # 保存当前生成到的数据列的第几个数据，生成器中性质，记录位置，下一个位置的数据\n",
    "        self.current = 0\n",
    "        # 两个初始值\n",
    "        self.a = 0\n",
    "        self.b = 1\n",
    "\n",
    "    def __next__(self):\n",
    "        \"\"\"当使用next()函数调用时，就会获取下一个数\"\"\"\n",
    "        if self.current < self.n:\n",
    "            self.a, self.b = self.b, self.a + self.b\n",
    "            self.current += 1\n",
    "            return self.a\n",
    "        else:\n",
    "            raise StopIteration\n",
    "\n",
    "    def __iter__(self):\n",
    "        \"\"\"迭代器的__iter__ 返回自身即可\"\"\"\n",
    "        return self\n",
    "\n",
    "\n",
    "if __name__ == '__main__':\n",
    "    fib = Fibonacci(15)\n",
    "    for num in fib:\n",
    "        print(num)"
   ]
  },
  {
   "cell_type": "code",
   "execution_count": 8,
   "metadata": {},
   "outputs": [
    {
     "name": "stdout",
     "output_type": "stream",
     "text": [
      "1\n",
      "1\n",
      "2\n",
      "3\n",
      "5\n",
      "8\n",
      "13\n",
      "21\n",
      "34\n",
      "55\n",
      "89\n",
      "144\n",
      "233\n",
      "377\n",
      "610\n",
      "987\n",
      "1597\n",
      "2584\n",
      "4181\n",
      "6765\n",
      "10946\n",
      "17711\n",
      "28657\n",
      "46368\n",
      "75025\n",
      "121393\n",
      "196418\n",
      "317811\n",
      "514229\n",
      "832040\n",
      "1346269\n",
      "2178309\n",
      "3524578\n",
      "5702887\n",
      "9227465\n",
      "14930352\n",
      "24157817\n",
      "39088169\n",
      "63245986\n",
      "102334155\n",
      "165580141\n",
      "267914296\n",
      "433494437\n",
      "701408733\n",
      "1134903170\n",
      "1836311903\n",
      "2971215073\n",
      "4807526976\n",
      "7778742049\n",
      "12586269025\n"
     ]
    },
    {
     "data": {
      "text/plain": [
       "[1,\n",
       " 1,\n",
       " 2,\n",
       " 3,\n",
       " 5,\n",
       " 8,\n",
       " 13,\n",
       " 21,\n",
       " 34,\n",
       " 55,\n",
       " 89,\n",
       " 144,\n",
       " 233,\n",
       " 377,\n",
       " 610,\n",
       " 987,\n",
       " 1597,\n",
       " 2584,\n",
       " 4181,\n",
       " 6765,\n",
       " 10946,\n",
       " 17711,\n",
       " 28657,\n",
       " 46368,\n",
       " 75025,\n",
       " 121393,\n",
       " 196418,\n",
       " 317811,\n",
       " 514229,\n",
       " 832040,\n",
       " 1346269,\n",
       " 2178309,\n",
       " 3524578,\n",
       " 5702887,\n",
       " 9227465,\n",
       " 14930352,\n",
       " 24157817,\n",
       " 39088169,\n",
       " 63245986,\n",
       " 102334155,\n",
       " 165580141,\n",
       " 267914296,\n",
       " 433494437,\n",
       " 701408733,\n",
       " 1134903170,\n",
       " 1836311903,\n",
       " 2971215073,\n",
       " 4807526976,\n",
       " 7778742049,\n",
       " 12586269025]"
      ]
     },
     "execution_count": 8,
     "metadata": {},
     "output_type": "execute_result"
    }
   ],
   "source": [
    "# 第五种-矩阵\n",
    "\n",
    "\n",
    "import numpy as np\n",
    "\n",
    "### 1\n",
    "def fib_matrix(n):\n",
    "    for i in range(n):\n",
    "        res = pow((np.matrix([[1, 1], [1, 0]], dtype='int64')), i) * np.matrix([[1], [0]])\n",
    "        print(int(res[0][0]))\n",
    "\n",
    "\n",
    "# 调用\n",
    "fib_matrix(50)\n",
    "\n",
    "### 2\n",
    "# 使用矩阵计算斐波那契数列\n",
    "def Fibonacci_Matrix_tool(n):\n",
    "    Matrix = np.matrix(\"1 1;1 0\", dtype='int64')\n",
    "    # 返回是matrix类型\n",
    "    return np.linalg.matrix_power(Matrix, n)\n",
    "\n",
    "def Fibonacci_Matrix(n):\n",
    "    result_list = []\n",
    "    for i in range(0, n):\n",
    "        result_list.append(np.array(Fibonacci_Matrix_tool(i))[0][0])\n",
    "    return result_list\n",
    "\n",
    "# 调用\n",
    "Fibonacci_Matrix(50)\n",
    "\n",
    "### pow 速度 比 双**号快, np.linalg.matrix_power也是一种方法"
   ]
  }
 ],
 "metadata": {
  "kernelspec": {
   "display_name": "Python 3",
   "language": "python",
   "name": "python3"
  },
  "language_info": {
   "codemirror_mode": {
    "name": "ipython",
    "version": 3
   },
   "file_extension": ".py",
   "mimetype": "text/x-python",
   "name": "python",
   "nbconvert_exporter": "python",
   "pygments_lexer": "ipython3",
   "version": "3.8.5"
  }
 },
 "nbformat": 4,
 "nbformat_minor": 4
}
