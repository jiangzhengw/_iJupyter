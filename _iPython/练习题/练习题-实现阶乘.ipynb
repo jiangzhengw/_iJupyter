{
 "cells": [
  {
   "cell_type": "markdown",
   "metadata": {},
   "source": [
    "### 输入数字n，返回n的阶乘"
   ]
  },
  {
   "cell_type": "code",
   "execution_count": 1,
   "metadata": {},
   "outputs": [
    {
     "data": {
      "text/plain": [
       "24"
      ]
     },
     "execution_count": 1,
     "metadata": {},
     "output_type": "execute_result"
    }
   ],
   "source": [
    "# 方法1：递归法\n",
    "\n",
    "def factorial_01(n):\n",
    "    if n >0:\n",
    "        if n >1:\n",
    "            return n*factorial_01(n-1)\n",
    "        else:\n",
    "            return 1\n",
    "    else:\n",
    "        return 0\n",
    "\n",
    "factorial_01(4) # 4*3*2*1=24"
   ]
  },
  {
   "cell_type": "code",
   "execution_count": 5,
   "metadata": {},
   "outputs": [
    {
     "data": {
      "text/plain": [
       "120"
      ]
     },
     "execution_count": 5,
     "metadata": {},
     "output_type": "execute_result"
    }
   ],
   "source": [
    "# 方法二：普通函数法\n",
    "\n",
    "\n",
    "def factorial_02(n):\n",
    "    result = 1\n",
    "    if n >0:\n",
    "        for i in range(2,n+1):\n",
    "            result *=i\n",
    "        return result\n",
    "    else:\n",
    "        return 0\n",
    "\n",
    "    \n",
    "factorial_02(5)"
   ]
  },
  {
   "cell_type": "code",
   "execution_count": 6,
   "metadata": {
    "scrolled": true
   },
   "outputs": [
    {
     "name": "stdout",
     "output_type": "stream",
     "text": [
      "[1, 1, 2, 3, 4]\n"
     ]
    },
    {
     "data": {
      "text/plain": [
       "720"
      ]
     },
     "execution_count": 6,
     "metadata": {},
     "output_type": "execute_result"
    }
   ],
   "source": [
    "# 方法3：匿名函数\n",
    "from functools import reduce\n",
    "\n",
    "def factorial_03(n):\n",
    "    if n>0:\n",
    "        return reduce(lambda x,y:x*y,[1]+sorted(range(1,n+1)))\n",
    "    else:\n",
    "        return 0\n",
    "\n",
    "l = [1]+sorted(range(1,4+1))\n",
    "print(l)\n",
    "\n",
    "factorial_03(6)"
   ]
  },
  {
   "cell_type": "code",
   "execution_count": null,
   "metadata": {},
   "outputs": [],
   "source": [
    "# 方法4:列表推导式\n",
    "s=[]"
   ]
  }
 ],
 "metadata": {
  "kernelspec": {
   "display_name": "Python 3",
   "language": "python",
   "name": "python3"
  },
  "language_info": {
   "codemirror_mode": {
    "name": "ipython",
    "version": 3
   },
   "file_extension": ".py",
   "mimetype": "text/x-python",
   "name": "python",
   "nbconvert_exporter": "python",
   "pygments_lexer": "ipython3",
   "version": "3.8.5"
  }
 },
 "nbformat": 4,
 "nbformat_minor": 4
}
