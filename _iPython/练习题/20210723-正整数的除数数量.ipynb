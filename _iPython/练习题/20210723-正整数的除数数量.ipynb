{
 "cells": [
  {
   "cell_type": "code",
   "execution_count": 1,
   "metadata": {},
   "outputs": [],
   "source": [
    "def divisors(n):\n",
    "    count = 0\n",
    "    for i in range(1, n + 1):\n",
    "        if n % i == 0:\n",
    "            count += 1\n",
    "    return count\n",
    "\n",
    "\n",
    "assert divisors(4) == 3\n",
    "assert divisors(5) == 2\n",
    "assert divisors(12) == 6\n",
    "assert divisors(30) == 8"
   ]
  },
  {
   "cell_type": "code",
   "execution_count": 2,
   "metadata": {},
   "outputs": [],
   "source": [
    "def divisors(n):\n",
    "    cache={1}\n",
    "    cache.add(n)\n",
    "    for i in range(2,n//2+1):\n",
    "        if i in cache:continue\n",
    "        if n%i==0:\n",
    "            cache.add(i)\n",
    "            cache.add(int(n/i))\n",
    "    return len(cache)\n",
    "\n",
    "assert divisors(4)  == 3\n",
    "assert divisors(5)  == 2\n",
    "assert divisors(12) == 6\n",
    "assert divisors(30) == 8"
   ]
  },
  {
   "cell_type": "code",
   "execution_count": 5,
   "metadata": {},
   "outputs": [],
   "source": [
    "def divisors(n):\n",
    "    return len([i for i in range(1, n+1) if n % i == 0])\n",
    "\n",
    "assert divisors(4) == 3\n",
    "assert divisors(5) == 2\n",
    "assert divisors(12) == 6\n",
    "assert divisors(30) == 8"
   ]
  }
 ],
 "metadata": {
  "kernelspec": {
   "display_name": "Python 3",
   "language": "python",
   "name": "python3"
  },
  "language_info": {
   "codemirror_mode": {
    "name": "ipython",
    "version": 3
   },
   "file_extension": ".py",
   "mimetype": "text/x-python",
   "name": "python",
   "nbconvert_exporter": "python",
   "pygments_lexer": "ipython3",
   "version": "3.8.5"
  }
 },
 "nbformat": 4,
 "nbformat_minor": 4
}
