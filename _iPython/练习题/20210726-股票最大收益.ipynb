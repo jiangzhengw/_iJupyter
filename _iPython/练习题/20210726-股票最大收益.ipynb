{
 "cells": [
  {
   "cell_type": "markdown",
   "metadata": {},
   "source": [
    "给你一个数字列表，对应第 i 个元素表示第 i 天的股票价格，一天只能做一个买入或者卖出操作，买入后一定要卖出才能再次买入。请编写python函数，输出获得的最大收益。\n",
    "\n",
    "示例：\n",
    "输入：[1,4,2]\n",
    "输出：3\n",
    "\n",
    "题目难度：简单\n",
    "题目来源：牛客网 3"
   ]
  },
  {
   "cell_type": "code",
   "execution_count": 5,
   "metadata": {},
   "outputs": [
    {
     "name": "stdout",
     "output_type": "stream",
     "text": [
      "{1: 1, 2: 4, 3: 5}\n"
     ]
    }
   ],
   "source": [
    "price=[1,4,5]\n",
    "def price_grammar(price):\n",
    "    price_day={}\n",
    "    for day,price in enumerate(price):\n",
    "        price_day[day+1]=price\n",
    "    return price_day\n",
    "#     操作函数\n",
    "def opration(day):\n",
    "    return price_day[day]\n",
    "\n",
    "def gene(price_grammar):\n",
    "    length=len(price_grammar)\n",
    "    if length<1:return None\n",
    "    while length:\n",
    "        for i in \n",
    "\n",
    "print(price_grammar(price))\n",
    "        \n",
    "    "
   ]
  },
  {
   "cell_type": "code",
   "execution_count": 7,
   "metadata": {},
   "outputs": [
    {
     "name": "stdout",
     "output_type": "stream",
     "text": [
      "4\n"
     ]
    }
   ],
   "source": [
    "price=[1,4,5]\n",
    "\n",
    "def solution(pirce):\n",
    "    min_price=price[0]\n",
    "    max_resume=0\n",
    "    for i in range(1,len(price)):\n",
    "        if price[i]<min_price:min_price=price[i]\n",
    "        max_resume=max(max_resume,price[i]-min_price)\n",
    "    return max_resume\n",
    "\n",
    "print(solution(price))\n"
   ]
  }
 ],
 "metadata": {
  "kernelspec": {
   "display_name": "Python 3",
   "language": "python",
   "name": "python3"
  },
  "language_info": {
   "codemirror_mode": {
    "name": "ipython",
    "version": 3
   },
   "file_extension": ".py",
   "mimetype": "text/x-python",
   "name": "python",
   "nbconvert_exporter": "python",
   "pygments_lexer": "ipython3",
   "version": "3.8.5"
  }
 },
 "nbformat": 4,
 "nbformat_minor": 4
}
