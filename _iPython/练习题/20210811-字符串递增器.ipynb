{
 "cells": [
  {
   "cell_type": "markdown",
   "metadata": {},
   "source": [
    "我们的任务是编写一个python函数，该函数接收一个字符串，以创建并返回一个新字符串。规则是：（1）如果输入字符串已经以一个数字结束，则该数字应该增加1；（2）如果输入字符串没有以数字结尾，那么数字1应该附加到新字符串中。\n",
    "\n",
    "示例：\n",
    "输入：hogwarts665 ，输出：hogwarts666 。\n",
    "输入：hogwarts ，输出：hogwarts1 。\n",
    "\n",
    "题目难度：简单\n",
    "题目来源：codewars"
   ]
  },
  {
   "cell_type": "code",
   "execution_count": null,
   "metadata": {},
   "outputs": [],
   "source": [
    "def increment_string(s:str) -> str:\n",
    "    pass\n",
    "  \n",
    "assert increment_string(\"hogwarts665\") == \"hogwarts666\"\n",
    "assert increment_string(\"hogwarts\") == \"hogwarts1\"\n",
    "assert increment_string(\"\") == \"1\""
   ]
  },
  {
   "cell_type": "code",
   "execution_count": 8,
   "metadata": {},
   "outputs": [
    {
     "name": "stdout",
     "output_type": "stream",
     "text": [
      "asdasd2\n"
     ]
    }
   ],
   "source": [
    "def increment_string(s:str) -> str:\n",
    "    if s.endswith('1'):return s[:-1]+str(int(s[:-2:-1])+1)\n",
    "    \n",
    "\n",
    "print(increment_string('asdasd1'))\n",
    "        "
   ]
  }
 ],
 "metadata": {
  "kernelspec": {
   "display_name": "Python 3",
   "language": "python",
   "name": "python3"
  },
  "language_info": {
   "codemirror_mode": {
    "name": "ipython",
    "version": 3
   },
   "file_extension": ".py",
   "mimetype": "text/x-python",
   "name": "python",
   "nbconvert_exporter": "python",
   "pygments_lexer": "ipython3",
   "version": "3.8.5"
  }
 },
 "nbformat": 4,
 "nbformat_minor": 4
}
