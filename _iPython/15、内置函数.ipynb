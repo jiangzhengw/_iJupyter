{
 "cells": [
  {
   "cell_type": "markdown",
   "metadata": {},
   "source": [
    "# 内置函数\n",
    "https://docs.python.org/zh-cn/3/library/functions.html\n",
    "\n",
    ">系统安装完Python解释器时，就提供好的函数"
   ]
  },
  {
   "cell_type": "markdown",
   "metadata": {},
   "source": [
    "### range()"
   ]
  },
  {
   "cell_type": "code",
   "execution_count": null,
   "metadata": {
    "scrolled": true
   },
   "outputs": [],
   "source": [
    "# range()函数\n",
    "# 功能：能够生成一个指定的数字序列\n",
    "# 参数：\n",
    "#     start : 开始的值 ，默认值为0\n",
    "#     stop  ： 结束的值\n",
    "#     [, step]： 可选，步进值 默认值为1\n",
    "# 返回值： 可迭代的对象，数字序列\n",
    "\n",
    "s1 = list(range(0,10,2))\n",
    "s2 = list(range(10,0,-1))\n",
    "s3 = list(range(0,-10,-1))\n",
    "print(s1)\n",
    "print(s2)\n",
    "print(s3)"
   ]
  },
  {
   "cell_type": "markdown",
   "metadata": {},
   "source": [
    "### zip()\n"
   ]
  },
  {
   "cell_type": "code",
   "execution_count": null,
   "metadata": {},
   "outputs": [],
   "source": [
    "# zip()\n",
    "# 功能：zip 函数是可以接受多个可迭代的对象，然后把每个可迭代对象中的第i个元素组合在一起，形成一个新的迭代器\n",
    "# 参数：*iterables，任意个的 可迭代对象\n",
    "# 返回值： 返回一个元组的迭代器\n",
    "\n",
    "x=[1,2,3,4]\n",
    "y=[4,3,2,1,1,3,4,5,6]\n",
    "z=['1','2','3']\n",
    "print(list(zip(z)))\n",
    "zipped = zip(x, y)\n",
    "print(zipped)\n",
    "print(*zip(x, y))\n",
    "print(*zipped)\n",
    "print(list(zipped))\n",
    "\n",
    "# zip() 与 * 运算符相结合可以用来拆解一个列表:\n",
    "x2, y2 = zip(*zip(x, y))\n",
    "# x2, y2 = zip(*[zip(x, y,z)]*2)\n",
    "print(x2,y2)\n",
    "print(list(x2),list(y2))"
   ]
  },
  {
   "cell_type": "code",
   "execution_count": null,
   "metadata": {},
   "outputs": [],
   "source": [
    "x=[1,2,3,4,5]\n",
    "y=['a','b','c','d']\n",
    "z=['啊','是','的','非','个','好']\n",
    "zipped=zip(x,y,z)\n",
    "\n",
    "print(list(zipped))\n",
    "\n",
    "# print(sorted(zipped))\n",
    "\n",
    "# for i in zipped:\n",
    "#     print(i)\n",
    "\n"
   ]
  },
  {
   "cell_type": "markdown",
   "metadata": {},
   "source": [
    "## 其它内置函数\n",
    "\n",
    "### 数据类型转换相关内置函数\n",
    "\n",
    "+ int() 将其它类型数据转为整型\n",
    "+ float() 转为浮点类型\n",
    "+ bool() 转为布尔类型\n",
    "+ complex() 转为复数\n",
    "+ str() 转为字符串类型\n",
    "+ list 转为列表类型\n",
    "+ tuple 转为元组类型\n",
    "+ dict 转为字典类型\n",
    "+ set 转为集合类型"
   ]
  },
  {
   "cell_type": "code",
   "execution_count": null,
   "metadata": {
    "scrolled": true
   },
   "outputs": [],
   "source": [
    "# int() 将其它类型数据转为整型:class int(x, base=10)\n",
    "print(int('1'))\n",
    "print(int(0b1011))\n",
    "print(int(0o1011))\n",
    "print(int(0x1011))\n",
    "\n",
    "# float() 转为浮点类型：\n",
    "# 返回从数字或字符串 x 生成的浮点数。\n",
    "print(float(1))\n",
    "print(float('123'))\n",
    "\n",
    "# bool() 转为布尔类型:\n",
    "# 返回一个布尔值，True 或者 False。\n",
    "print(bool(1))\n",
    "print(bool(0))\n",
    "print(bool('1'))\n",
    "print(bool(1==1))\n",
    "print(bool([1]))\n",
    "print(bool({1}))\n",
    "\n",
    "# complex() 转为复数：\n",
    "# 用于创建一个值为 real + imag * j 的复数或者转化一个字符串或数为复数。如果第一个参数为字符串，则不需要指定第二个参数。。\n",
    "print(complex(1,2))\n",
    "print(complex('1'))\n",
    "\n",
    "# str() 转为字符串类型:class str(object=b'', encoding='utf-8', errors='strict')\n",
    "# 返回一个 str 版本的 object 。\n",
    "print(str(1),type(str(1)))\n",
    "print(str('1'),type(str('1')))\n",
    "print(str([1]),type(str([1])))\n",
    "print(str({1}),type(str({1})))\n",
    "\n",
    "# list 转为列表类型:class list([iterable])\n",
    "# print(list(1))\n",
    "print(list('abcd'))\n",
    "print(list((1,2)))\n",
    "\n",
    "# tuple 转为元组类型:class tuple([iterable])，接收可迭代对象\n",
    "print(tuple([1,2,3,4]))\n",
    "print(tuple(range(1,10)))\n",
    "\n",
    "# dict 转为字典类型：\n",
    "# class dict(**kwarg)\n",
    "# class dict(mapping, **kwarg)\n",
    "# class dict(iterable, **kwarg)\n",
    "print(dict(x=1,y=2))\n",
    "print(dict({'x':1,'y':2},z=3))\n",
    "print(dict(zip(['one', 'two', 'three'], [1, 2, 3])))\n",
    "\n",
    "# set 转为集合类型:class set([iterable])\n",
    "print(set(range(1,10)))\n",
    "print(set(zip(['a','b','c','d'],[1,2,3,4,5])))  #生成set时是无序的\n",
    "print(list(zip(['a','b','c','d'],[1,2,3,4,5])))"
   ]
  },
  {
   "cell_type": "markdown",
   "metadata": {},
   "source": [
    "### 变量相关函数\n",
    "\n",
    "+ id() 获取当前数据的ID标识\n",
    "+ type() 获取当前数据的类型字符串\n",
    "+ print() 数据的打印\n",
    "+ input() 获取输入的数据\n",
    "+ isinstance() 检测是否为指定的数据类型"
   ]
  },
  {
   "cell_type": "code",
   "execution_count": null,
   "metadata": {},
   "outputs": [],
   "source": [
    "# id() 获取当前数据的ID标识：返回对象的“标识值”。该值是一个整数，在此对象的生命周期中保证是唯一且恒定的。\n",
    "a=1\n",
    "b=2\n",
    "print(id(a),id(b),sep=',')\n",
    "\n",
    "# type() 获取当前数据的类型字符串：class type(name, bases, dict, **kwds)\n",
    "print(type(a),type(b),sep=',',end='\\n')\n",
    "\n",
    "# print() 数据的打印:print(*objects, sep=' ', end='\\n', file=sys.stdout, flush=False)\n",
    "\n",
    "# input() 获取输入的数据:input([prompt])\n",
    "# input('-->')\n",
    "\n",
    "# isinstance() 检测是否为指定的数据类型:isinstance(object, classinfo)\n",
    "print(isinstance(a,str))\n",
    "print(isinstance(a,(str,int)))"
   ]
  },
  {
   "cell_type": "markdown",
   "metadata": {},
   "source": [
    "### 数学相关函数\n",
    "\n",
    "+ adb() 获取一个数的绝对值\n",
    "+ sum() 求两数之和\n",
    "+ max() 求最大值\n",
    "+ min() 求最小值\n",
    "+ pow() 幂运算\n",
    "+ round() 四舍五入\n"
   ]
  },
  {
   "cell_type": "code",
   "execution_count": 19,
   "metadata": {
    "scrolled": true
   },
   "outputs": [
    {
     "name": "stdout",
     "output_type": "stream",
     "text": [
      "99.99\n",
      "1.0\n",
      "6\n",
      "16\n",
      "3,99\n",
      "s\n",
      "-9,-2\n",
      "8\n",
      "2\n",
      "3,3.14,2\n"
     ]
    }
   ],
   "source": [
    "# 获取一个数的绝对值：abs(x)\n",
    "print(abs(-99.99))\n",
    "print(abs(1+0j))\n",
    "\n",
    "# 求和 从 start 开始自左向右对 iterable 中的项求和并返回总计值:sum(iterable, /, start=0)\n",
    "print(sum([1,2,3]))\n",
    "print(sum([1,2,3],10))\n",
    "\n",
    "# 获取最大值:max(iterable, *[, key, default]);max(arg1, arg2, *args[, key])\n",
    "print(max([1,2,3]),max(99,12,45),sep=',')\n",
    "print(max('a bsadkjjjjjjjjjjjjjjjj'))\n",
    "\n",
    "# 获取最小值\n",
    "print(min([2,1,6,-9]),min(6,7,1,0,-2),sep=',')\n",
    "\n",
    "# 幂运算  返回 x 的 y 次幂:pow(base, exp[, mod])\n",
    "print(pow(2,3)) # 等于2**3\n",
    "print(pow(2,3,3)) #比pow(2,3)%3 高效\n",
    "\n",
    "# 四舍五入:round(number[, ndigits])\n",
    "r1 = round(3.1415926)\n",
    "r2 = round(3.1415926,2) # 小数点保留几位\n",
    "r3 = round(2.5) # 奇进偶退  1.5 = 2 2.5=2,3.5=4,4.5=4\n",
    "print(r1,r2,r3,sep=',')"
   ]
  },
  {
   "cell_type": "markdown",
   "metadata": {},
   "source": [
    "### 进制相关函数\n",
    "\n",
    "```python\n",
    "# bin() 将数值类型转为二进制\n",
    "# print(bin(123)) # 0b1111011\n",
    "\n",
    "# int() 将二进制转为整型\n",
    "# print(int(0b1111011)) #1 23\n",
    "\n",
    "# oct() 转为八进制数 01234567\n",
    "# print(oct(123)) # 0o173\n",
    "\n",
    "# hex() 转为十六进制数 0123456789abcdef\n",
    "# print(hex(123)) # 0x7b\n",
    "```"
   ]
  },
  {
   "cell_type": "code",
   "execution_count": 9,
   "metadata": {},
   "outputs": [
    {
     "name": "stdout",
     "output_type": "stream",
     "text": [
      "0b1111011\n",
      "123\n",
      "0o173\n",
      "0x7b\n"
     ]
    }
   ],
   "source": [
    "# bin() 将数值类型转为二进制\n",
    "print(bin(123)) # 0b1111011\n",
    "\n",
    "# int() 将二进制转为整型\n",
    "print(int(0b1111011)) #1 23\n",
    "\n",
    "# oct() 转为八进制数 01234567\n",
    "print(oct(123)) # 0o173\n",
    "\n",
    "# hex() 转为十六进制数 0123456789abcdef\n",
    "print(hex(123)) # 0x7b"
   ]
  },
  {
   "cell_type": "markdown",
   "metadata": {},
   "source": [
    "### Ascii码及字符集\n",
    "\n",
    "+ Ascii 共计 128个字符，更新于 1986年 主要用于显示现代英语和其他西欧语言。\n",
    "+ GB2312-80 是 1980 年制定的中国汉字编码国家标准。共收录 7445 个字符，其中汉字 6763 个。\n",
    "+ GBK 于1995年制定 收录了 21003 个汉字。GBK向下与 GB 2312 编码兼容，\n",
    "+ GBK18030 2001年的1月正式强制执行，是我国制订的以汉字为主并包含多种我国少数民族文字（如藏、蒙古、傣、彝、朝鲜、维吾尔文等）的超大型中文编码字符集强制性标准，其中收入汉字70000余\n",
    "+ Unicode（统一码、万国码、单一码）是计算机科学领域里的一项业界标准，包括字符集、编码方案等。\n",
    "  + 它为每种语言中的每个字符设定了统一并且唯一的二进制编码，以满足跨语言、跨平台进行文本转换、处理的要求。1990年开始研发，1994年正式公布。\n",
    "  + UTF-8 以字节为单位对Unicode进行编码"
   ]
  },
  {
   "cell_type": "code",
   "execution_count": 10,
   "metadata": {
    "scrolled": true
   },
   "outputs": [
    {
     "name": "stdout",
     "output_type": "stream",
     "text": [
      "97\n",
      "A\n"
     ]
    }
   ],
   "source": [
    "# 将字符转为 ascii\n",
    "r = ord('a')\n",
    "print(r)\n",
    "\n",
    "# 将ascii转为字符\n",
    "r = chr(65)\n",
    "print(r)"
   ]
  }
 ],
 "metadata": {
  "kernelspec": {
   "display_name": "Python 3",
   "language": "python",
   "name": "python3"
  },
  "language_info": {
   "codemirror_mode": {
    "name": "ipython",
    "version": 3
   },
   "file_extension": ".py",
   "mimetype": "text/x-python",
   "name": "python",
   "nbconvert_exporter": "python",
   "pygments_lexer": "ipython3",
   "version": "3.8.5"
  }
 },
 "nbformat": 4,
 "nbformat_minor": 4
}
