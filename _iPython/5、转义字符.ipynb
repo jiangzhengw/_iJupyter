{
 "cells": [
  {
   "cell_type": "markdown",
   "metadata": {},
   "source": [
    "### 转义字符"
   ]
  },
  {
   "cell_type": "markdown",
   "metadata": {},
   "source": [
    "### 转义字符就是反斜杠+想要实现的转移功能的首字母"
   ]
  },
  {
   "cell_type": "code",
   "execution_count": 5,
   "metadata": {
    "scrolled": true
   },
   "outputs": [
    {
     "name": "stdout",
     "output_type": "stream",
     "text": [
      "\\\n",
      "'\n",
      "\"\n",
      "hello\n",
      "python\n",
      "hello\tpython\n",
      "hellooooo\tpython\n",
      "hello\r",
      "python\n",
      "hello  \bpython\n",
      "http://www.baidu.com \n"
     ]
    }
   ],
   "source": [
    "# 反斜杠：\\\\\n",
    "# 单引号：\\'\n",
    "# 双引号：\\\"\n",
    "# 换行：\\n\n",
    "# 回车：\\r\n",
    "# 水平制表符：\\t\n",
    "#退格：\\b\n",
    "\n",
    "print('\\\\')\n",
    "print('\\'')\n",
    "print('\\\"')\n",
    "print('hello\\npython')\n",
    "print('hello\\tpython')\n",
    "print('hellooooo\\tpython')\n",
    "print('hello\\rpython')\n",
    "print('hello  \\bpython')\n",
    "print('http://www.baidu.com ')"
   ]
  },
  {
   "cell_type": "markdown",
   "metadata": {},
   "source": [
    "### 原字符：不希望转义字符起作用"
   ]
  },
  {
   "cell_type": "code",
   "execution_count": 8,
   "metadata": {},
   "outputs": [
    {
     "name": "stdout",
     "output_type": "stream",
     "text": [
      "hello\\npython\n",
      "hello\\npython\n",
      "hello\n",
      "python\\ \n"
     ]
    }
   ],
   "source": [
    "# 在字符串之前加上r 或 R\n",
    "print(r'hello\\npython')\n",
    "print(R'hello\\npython')\n",
    "\n",
    "# 注意事项：最后一个字符不能是转义字符\\\n",
    "print('hello\\npython\\ ')"
   ]
  }
 ],
 "metadata": {
  "kernelspec": {
   "display_name": "Python 3",
   "language": "python",
   "name": "python3"
  },
  "language_info": {
   "codemirror_mode": {
    "name": "ipython",
    "version": 3
   },
   "file_extension": ".py",
   "mimetype": "text/x-python",
   "name": "python",
   "nbconvert_exporter": "python",
   "pygments_lexer": "ipython3",
   "version": "3.8.5"
  }
 },
 "nbformat": 4,
 "nbformat_minor": 4
}
